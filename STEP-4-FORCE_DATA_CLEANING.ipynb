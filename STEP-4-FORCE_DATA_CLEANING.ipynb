{
 "cells": [
  {
   "cell_type": "markdown",
   "id": "4dee917e-274d-4f8c-a02e-c3971a0b6db7",
   "metadata": {},
   "source": [
    "# Preprocessing Use of Force Data\n",
    "This notebook is designed to show the preprocessing of use of force data in preparation for modelling civilian injury. The data is not yet publicly available and as such, the data file cannot be provided in the supporting materials. Due to confidentiality reasons, only aggregated statistics will be displayed and no rows of the dataframe will be shown. \n",
    "## Steps Overview:\n",
    "1. Load use of force data from 2004-2020 (obtained from CPD under FOIA requests)\n",
    "2. Check missing values and avaliable variables\n",
    "3. Drop columns with high missing values and no contribution to the analysis\n",
    "4. Clean missing values in variables of interest\n",
    "5. Recode person, resistance type and action\n",
    "6. Deduplicate the dataset by uid_force and uid\n",
    "7. Recode rank\n",
    "8. Clean beats and derive police district numbers\n",
    "9. Derive years and months of experience (officer)\n",
    "10. Export preprocessed dataset"
   ]
  },
  {
   "cell_type": "code",
   "execution_count": 5,
   "id": "db7190bd-9bd1-495a-a4d8-b090719313db",
   "metadata": {},
   "outputs": [
    {
     "name": "stdout",
     "output_type": "stream",
     "text": [
      "Python version: 3.11.5 | packaged by Anaconda, Inc. | (main, Sep 11 2023, 13:26:23) [MSC v.1916 64 bit (AMD64)]\n",
      "Pandas version: 2.0.3\n",
      "Matplotlib version: 3.7.2\n"
     ]
    }
   ],
   "source": [
    "import pandas as pd\n",
    "import matplotlib\n",
    "import re\n",
    "import sys\n",
    "print(\"Python version:\", sys.version)\n",
    "# Print versions of each package\n",
    "print(\"Pandas version:\", pd.__version__)\n",
    "print(\"Matplotlib version:\", matplotlib.__version__)"
   ]
  },
  {
   "cell_type": "code",
   "execution_count": 6,
   "id": "3a21e6b4-38f0-453e-a53a-c81867739f9f",
   "metadata": {},
   "outputs": [],
   "source": [
    "import matplotlib.pyplot as plt"
   ]
  },
  {
   "cell_type": "code",
   "execution_count": 8,
   "id": "d659a27f-829f-4752-9ed7-646e7b7c84e9",
   "metadata": {},
   "outputs": [],
   "source": [
    "import warnings\n",
    "\n",
    "# Suppress all warnings\n",
    "warnings.filterwarnings('ignore')"
   ]
  },
  {
   "cell_type": "markdown",
   "id": "fb43e51d-65c0-4fb4-8d50-5d4467455c95",
   "metadata": {},
   "source": [
    "## Step 1: Load use of force data from 2004-2020 (obtained from CPD under FOIA requests)"
   ]
  },
  {
   "cell_type": "code",
   "execution_count": 12,
   "id": "7cb3e3d6-249f-4f84-b90f-4afff05ade7b",
   "metadata": {},
   "outputs": [],
   "source": [
    "# Step 1: Load the dataset\n",
    "force = pd.read_parquet(\"force.parquet\")\n"
   ]
  },
  {
   "cell_type": "markdown",
   "id": "8d11f1b7-0463-49fe-8c24-e0839dd7ae8f",
   "metadata": {},
   "source": [
    "## Step 2: Check missing values and available variables\n",
    "Dataset needs to be deduplicated by uid, dt and uid_force->actual inidivudal use of force instances are much less than the whole dataset size"
   ]
  },
  {
   "cell_type": "code",
   "execution_count": 14,
   "id": "7979163c-b437-4441-bcfa-6c01fa270d3c",
   "metadata": {},
   "outputs": [
    {
     "name": "stdout",
     "output_type": "stream",
     "text": [
      "uid_force                          0\n",
      "rd                                97\n",
      "cr                            604640\n",
      "cb                             41486\n",
      "event                           1623\n",
      "beat                               0\n",
      "block                              0\n",
      "street_direction                 561\n",
      "street                             0\n",
      "location                           0\n",
      "outdoor                        36914\n",
      "lighting_condition             27223\n",
      "weather_condition              30256\n",
      "notify_oemc                   531692\n",
      "notify_district_sergeant      516258\n",
      "notify_operational_command    628042\n",
      "notify_detective_division     642407\n",
      "weapons_discharged            554358\n",
      "party_fired_first             599574\n",
      "gender                             0\n",
      "race                               0\n",
      "appointed                       1395\n",
      "assigned_unit                      0\n",
      "assigned_unit_detail          576424\n",
      "assigned_beat                  13262\n",
      "rank                              11\n",
      "duty_status                      481\n",
      "officer_injured                    0\n",
      "in_uniform                       520\n",
      "civilian_gender                  590\n",
      "civilian_race                   5918\n",
      "civilian_age                   56521\n",
      "civilian_yob                       0\n",
      "civilian_armed                   574\n",
      "civilian_injured                8033\n",
      "civilian_alleged_injury         8072\n",
      "ir                            609427\n",
      "dt                                 0\n",
      "current_rank                  594178\n",
      "current_unit                  596074\n",
      "current_beat                  596299\n",
      "report_created                594178\n",
      "policy_compliance             594446\n",
      "person                            41\n",
      "resistance_type                   41\n",
      "action                            41\n",
      "description                   597507\n",
      "uid                             3293\n",
      "inside                             0\n",
      "aid                           454766\n",
      "strict                        454766\n",
      "dtype: int64\n"
     ]
    }
   ],
   "source": [
    "missing_val_original = force.isna().sum()\n",
    "print(missing_val_original)"
   ]
  },
  {
   "cell_type": "markdown",
   "id": "451784ec-623c-4781-b0aa-8fa05273365f",
   "metadata": {},
   "source": [
    "## Step 3: Drop columns with high missing values and no contribution to the analysis\n",
    "1. 'rd', 'cr', 'cb', 'event', 'ir' - internal report referencing numbers and identifiers, which are redundant due to the unique identifier 'uid_force\"\n",
    "2. 'notify_' columns - binary indicators of whether administrative reports need to be filed to different branches of the reporting system - they are designed for internal monitoring and as such are not contributive to the analysis\n",
    "3. 'block', 'street_direction', 'street' - georaphical information that is too granular and is already captured by 'beat'\n",
    "4. 'outdoor' - duplicated variable with missing values, 'inside' already provides that information\n",
    "5. 'lighting_condition', 'weather_condition', 'location' - provide high granularity and are unlikely to be singificant predictors\n",
    "6. 'asigned_unit_detail' - high percentage of missing values\n",
    "7. 'assigned_unit', 'assigned_beat' - values of no predictive power, beat is already present and assigned units are used for internal reference, rank would be more suitable for modelling\n",
    "8. 'civilian_age'- problematic missing values, which might be due to error calculations from 'civillian_yob' \n",
    "9. 'current_rank', 'current_unit', 'current_beat' - not the focus of the analysis\n",
    "10. 'report_created\", 'policy_compliance' - high number of missing values suggesting data quality issues, should be dropped\n",
    "11. 'aid' -  shift identifier which is unavailable for data before 2014, column should be dropped\n",
    "12. 'description' - text variable containing additional description of actions, referring both to member and civilian actions. Unnecessary as person, action and resistance type already capture the key information.\n",
    "13. 'officer_injured' - not outcome of interest and would not make sense to be used in a model of civilian injury\n",
    "14. 'civilian_alleged_injury' - not outcome of interest, would necessitate additional analysis beyond the scope of this project"
   ]
  },
  {
   "cell_type": "code",
   "execution_count": 16,
   "id": "f3aafa30-1ae4-4b9c-bb73-60186ce5cb4d",
   "metadata": {},
   "outputs": [],
   "source": [
    "#Drop columns\n",
    "columns_to_drop = [\n",
    "    'rd', 'cr', 'cb', 'event', 'block', 'street_direction', 'street', \n",
    "    'location', 'lighting_condition', 'weather_condition', 'description', \n",
    "    'outdoor', 'notify_oemc', 'notify_district_sergeant', 'notify_operational_command', \n",
    "    'notify_detective_division', 'assigned_unit_detail', 'assigned_unit', 'officer_injured',\n",
    "    'assigned_beat', 'ir', 'civilian_age', 'current_rank', 'current_unit', 'current_beat', \n",
    "    'report_created', 'policy_compliance', 'strict', 'aid', 'civilian_alleged_injury'\n",
    "]\n",
    "force_clean = force.drop(columns=columns_to_drop)"
   ]
  },
  {
   "cell_type": "markdown",
   "id": "479379b3-48fc-4c11-96c0-6964d02710d2",
   "metadata": {},
   "source": [
    "## Step 4: Clean missing values in variables of interest\n",
    "Dataset needs to be deduplicated by uid, dt and uid_force->actual inidivudal use of force instances are much less than the whole dataset size. Imputation would not be a suitable strategy for the key predictors as it can introduce bias which might affect the analysis and modelling procedures. "
   ]
  },
  {
   "cell_type": "code",
   "execution_count": 18,
   "id": "48c236dd-a705-4ea4-84ff-3eeb3b30d7df",
   "metadata": {},
   "outputs": [],
   "source": [
    "# Missing uid rows need to be dropped, as the dataframe cannot be deduplicated successfully otherwise\n",
    "force_clean = force_clean.dropna(subset=['uid'])"
   ]
  },
  {
   "cell_type": "code",
   "execution_count": 20,
   "id": "1c5ab271-0a98-43f1-a0fc-e5f159d593c3",
   "metadata": {},
   "outputs": [
    {
     "name": "stdout",
     "output_type": "stream",
     "text": [
      "Dataset shape: (647406, 21)\n"
     ]
    }
   ],
   "source": [
    "# Check the shape of the dataset\n",
    "print(\"Dataset shape:\", force_clean.shape)"
   ]
  },
  {
   "cell_type": "code",
   "execution_count": 21,
   "id": "201248bf-7381-4947-85fc-830e6f4f35e2",
   "metadata": {},
   "outputs": [
    {
     "name": "stdout",
     "output_type": "stream",
     "text": [
      "uid_force                  0\n",
      "beat                       0\n",
      "weapons_discharged    551180\n",
      "party_fired_first     596289\n",
      "gender                     0\n",
      "race                       0\n",
      "appointed                  0\n",
      "rank                      11\n",
      "duty_status              474\n",
      "in_uniform               513\n",
      "civilian_gender          590\n",
      "civilian_race           5905\n",
      "civilian_yob               0\n",
      "civilian_armed           569\n",
      "civilian_injured        8026\n",
      "dt                         0\n",
      "person                    38\n",
      "resistance_type           38\n",
      "action                    38\n",
      "uid                        0\n",
      "inside                     0\n",
      "dtype: int64\n"
     ]
    }
   ],
   "source": [
    "missing_val = force_clean.isna().sum()\n",
    "print(missing_val)"
   ]
  },
  {
   "cell_type": "code",
   "execution_count": 22,
   "id": "858556b8-a316-488f-b797-daca87ddacc1",
   "metadata": {},
   "outputs": [],
   "source": [
    "# Drop missing values in 'civilian_gender', 'rank', 'civilian_race', 'civilian_injured'(outcome), 'person', 'resistance_type', 'action' - these are key variables for the analysis\n",
    "force_clean = force_clean.dropna(subset=['civilian_gender'])\n",
    "force_clean = force_clean.dropna(subset=['rank'])\n",
    "force_clean = force_clean.dropna(subset=['civilian_race'])\n",
    "force_clean = force_clean.dropna(subset=['civilian_injured'])\n",
    "force_clean = force_clean.dropna(subset=['person'])\n",
    "force_clean = force_clean.dropna(subset=['resistance_type'])\n",
    "force_clean = force_clean.dropna(subset=['action'])"
   ]
  },
  {
   "cell_type": "code",
   "execution_count": 25,
   "id": "24151a13-ef57-42f9-8011-51a02de3676c",
   "metadata": {},
   "outputs": [
    {
     "name": "stdout",
     "output_type": "stream",
     "text": [
      "uid_force                  0\n",
      "beat                       0\n",
      "weapons_discharged    537834\n",
      "party_fired_first     582348\n",
      "gender                     0\n",
      "race                       0\n",
      "appointed                  0\n",
      "rank                       0\n",
      "duty_status              443\n",
      "in_uniform               475\n",
      "civilian_gender            0\n",
      "civilian_race              0\n",
      "civilian_yob               0\n",
      "civilian_armed           200\n",
      "civilian_injured           0\n",
      "dt                         0\n",
      "person                     0\n",
      "resistance_type            0\n",
      "action                     0\n",
      "uid                        0\n",
      "inside                     0\n",
      "dtype: int64\n"
     ]
    }
   ],
   "source": [
    "# Check the shape of the dataset\n",
    "missing_val = force_clean.isna().sum()\n",
    "print(missing_val)"
   ]
  },
  {
   "cell_type": "code",
   "execution_count": 26,
   "id": "8af83ff6-64b4-402b-85ae-508ce31636a8",
   "metadata": {},
   "outputs": [],
   "source": [
    "#Assuming that if weapons_discharged is NA, then no weapons were discharged as there would have been record of it, which would be the most logical explanation given the huge percentage of 'NA'\n",
    "force_clean['weapons_discharged'].fillna(0, inplace=True)"
   ]
  },
  {
   "cell_type": "code",
   "execution_count": 29,
   "id": "9c85f735-563d-4ec1-bc02-7737fcaf0fe0",
   "metadata": {},
   "outputs": [],
   "source": [
    "# Filling 'party_fired_first' with 'NONE FIRED' where 'weapons_discharged' is 0, otherwise drop missing values as they can bias the results \n",
    "force_clean.loc[force_clean['weapons_discharged'] == 0, 'party_fired_first'] = 'NONE FIRED'\n",
    "# Drop  rows where 'party_fired_first' is still NaN\n",
    "force_clean = force_clean.dropna(subset=['party_fired_first'])"
   ]
  },
  {
   "cell_type": "code",
   "execution_count": 31,
   "id": "d91bea9a-6bbe-432d-9c9f-71b4799e56ed",
   "metadata": {},
   "outputs": [],
   "source": [
    "#Assuming that if there is no record of civilian_armed=False\n",
    "force_clean['civilian_armed'].fillna(False, inplace=True)"
   ]
  },
  {
   "cell_type": "code",
   "execution_count": 32,
   "id": "3d56f40c-f6c6-488b-923d-c645840c0292",
   "metadata": {},
   "outputs": [],
   "source": [
    "#Filling missing values with the mode as there are very few instances (likely concentrated in the same few use of force accidents, as the data has not been deduplicated yet)\n",
    "force_clean['in_uniform'].fillna(force_clean['in_uniform'].mode()[0], inplace=True)"
   ]
  },
  {
   "cell_type": "code",
   "execution_count": 33,
   "id": "d929f098-cb39-4f90-b2ff-8ca3526d6efd",
   "metadata": {},
   "outputs": [],
   "source": [
    "#Calculate age based on civilian birth as the orignial variable clearly contains data entry errors - impose a plausible range \n",
    "force_clean['civilian_yob'] = force_clean['civilian_yob'].apply(lambda x: x if 1924 <= x <= 2002 else None)\n",
    "\n",
    "# Step 6: Calculate 'civilian_age' from 'civilian_yob' and event 'dt'\n",
    "force_clean['civilian_age'] = force_clean.apply(lambda row: row['dt'].year - row['civilian_yob'] if pd.notna(row['civilian_yob']) and pd.notna(row['dt']) else None, axis=1)\n"
   ]
  },
  {
   "cell_type": "code",
   "execution_count": 35,
   "id": "a1d1b950-d83c-4e08-9eff-0c74ed24d5c3",
   "metadata": {},
   "outputs": [],
   "source": [
    "#Drop invalid entries in age, yob and duty status\n",
    "force_clean = force_clean.dropna(subset=['civilian_age', 'civilian_yob', 'duty_status'])"
   ]
  },
  {
   "cell_type": "code",
   "execution_count": 37,
   "id": "4371af47-18e1-4d1c-89c8-3e1859f9628a",
   "metadata": {},
   "outputs": [],
   "source": [
    "#Recode civilian race - some values not NA but still missing\n",
    "race_mapping = {\n",
    "    'BLACK': 'Black', 'WHITE': 'White', 'ASIAN/PACIFIC ISLANDER': 'Asian', \n",
    "    'ASIAN / PACIFIC ISLANDER': 'Asian', 'BLACK HISPANIC': 'Black', \n",
    "    'WHITE HISPANIC': 'Hispanic', 'AMER IND/ALASKAN NATIVE': 'Native American',\n",
    "    'AMER INDIAN / ALASKAN NATIVE': 'Native American', 'SPANISH (DO NOT USE)': 'Hispanic','UNKNOWN': None,  \n",
    "    'UNKNOWN / REFUSED': None \n",
    "}\n",
    "force_clean['civilian_race'] = force_clean['civilian_race'].replace(race_mapping)\n",
    "\n",
    "# Drop rows\n",
    "force_clean = force_clean.dropna(subset=['civilian_race'])\n"
   ]
  },
  {
   "cell_type": "code",
   "execution_count": 39,
   "id": "acdc098d-6993-4cc8-989a-7f40a81dfbc9",
   "metadata": {},
   "outputs": [],
   "source": [
    "# Recode officer race\n",
    "force_clean['race'] = force_clean['race'].replace({\n",
    "    'BLACK': 'Black', \n",
    "    'WHITE': 'White',\n",
    "    'ASIAN/PACIFIC ISLANDER': 'Asian',\n",
    "    'BLACK HISPANIC': 'Black',\n",
    "    'WHITE HISPANIC': 'Hispanic',\n",
    "    'AMER IND/ALASKAN NATIVE': 'Native American',\n",
    "    'UNKNOWN': None,  \n",
    "})\n",
    "\n",
    "# Drop NA \n",
    "force_clean = force_clean.dropna(subset=['race'])"
   ]
  },
  {
   "cell_type": "code",
   "execution_count": 43,
   "id": "0caee335-23f3-4c53-b5d6-d77e34fad8b1",
   "metadata": {},
   "outputs": [
    {
     "name": "stdout",
     "output_type": "stream",
     "text": [
      "uid_force             0\n",
      "beat                  0\n",
      "weapons_discharged    0\n",
      "party_fired_first     0\n",
      "gender                0\n",
      "race                  0\n",
      "appointed             0\n",
      "rank                  0\n",
      "duty_status           0\n",
      "in_uniform            0\n",
      "civilian_gender       0\n",
      "civilian_race         0\n",
      "civilian_yob          0\n",
      "civilian_armed        0\n",
      "civilian_injured      0\n",
      "dt                    0\n",
      "person                0\n",
      "resistance_type       0\n",
      "action                0\n",
      "uid                   0\n",
      "inside                0\n",
      "civilian_age          0\n",
      "dtype: int64\n"
     ]
    }
   ],
   "source": [
    "#Dataset doesn't have any left missing values (coded as NA)\n",
    "missing_val_original = force_clean.isna().sum()\n",
    "print(missing_val_original)"
   ]
  },
  {
   "cell_type": "markdown",
   "id": "e2318c9c-8cf9-442f-b2a5-aad82a8b0333",
   "metadata": {},
   "source": [
    "## Step 5: Recode action, person, and resistance_type\n",
    "As these variables cause multiple entries reflecting sequences of actions by different people per use of force incident, they need to be concatenated in a way which will allow unique ones to be kept and then filtered by the most severe in the sequence. For example, many cases might have passive resister in the first entry but as different member actions escalate, the civilian might end up using assault against an officer, and vice versa.\n",
    "Subject actions fall into  theresistance_type categories below and will be used as such for modelling."
   ]
  },
  {
   "cell_type": "code",
   "execution_count": 45,
   "id": "37cf54ce-4710-4fbd-852d-011594690e13",
   "metadata": {},
   "outputs": [],
   "source": [
    "#  Define severity rankings for resistance (subject) and member actions\n",
    "resistance_ranking = {\n",
    "    'Assailant Deadly Force': 5,\n",
    "    'Assailant Assault/Battery': 4,\n",
    "    'Assailant Battery': 3,\n",
    "    'Active Resister': 2,\n",
    "    'Passive Resister': 1\n",
    "}\n",
    "\n",
    "# Define severity ranking for member actions\n",
    "member_action_ranking = {\n",
    "    'Firearm': 6,\n",
    "    'Impact Weapon': 5,\n",
    "    'Less-Lethal Weapon': 4,\n",
    "    'Physical Force (High-Impact)': 3,\n",
    "    'Physical Force (Low-Impact)': 2,\n",
    "    'Control Methods': 1,\n",
    "    'Verbal Commands': 0,\n",
    "    'Emergency Control Methods': 2,\n",
    "    'Other (Specify)': 2,\n",
    "}\n",
    "\n",
    "# Recode the member actions into severity categories\n",
    "def recode_member_action(action):\n",
    "    if action == 'FIREARM':\n",
    "        return 'Firearm'\n",
    "    elif 'IMPACT WEAPON' in action or 'IMPACT MUNITION' in action:\n",
    "        return 'Impact Weapon'\n",
    "    elif 'TASER' in action or 'O.C./CHEMICAL WEAPON' in action or action == 'CANINE':\n",
    "        return 'Less-Lethal Weapon'\n",
    "    elif action == 'CLOSED HAND STRIKE/PUNCH' or action == 'KNEE STRIKE' or action == 'KICKS':\n",
    "        return 'Physical Force (High-Impact)'\n",
    "    elif action == 'ESCORT HOLDS' or action == 'WRISTLOCK' or action == 'MEMBER PRESENCE':\n",
    "        return 'Control Methods'\n",
    "    elif action == 'VERBAL COMMANDS':\n",
    "        return 'Verbal Commands'\n",
    "    elif action == 'TAKE DOWN/EMERGENCY HANDCUFFING':\n",
    "        return 'Emergency Control Methods'\n",
    "    elif action == 'ARMBAR' or action == 'OPEN HAND STRIKE' or action == 'ELBOW STRIKE' or action == 'PRESSURE SENSITIVE AREAS':\n",
    "        return 'Physical Force (Low-Impact)'\n",
    "    else:\n",
    "        return 'Unknown'"
   ]
  },
  {
   "cell_type": "code",
   "execution_count": 46,
   "id": "d5ab2975-3f7e-4350-b8c2-569833339dd6",
   "metadata": {},
   "outputs": [],
   "source": [
    "# Combine actions and resistance type for each group\n",
    "def process_group(group):\n",
    "    # Process Subject Action (resistance)\n",
    "    subject_resistances = group[group['person'] == 'Subject Action']['resistance_type'].values\n",
    "    if len(subject_resistances) > 0:\n",
    "        highest_resistance = max(subject_resistances, key=lambda x: resistance_ranking.get(x.strip(), 0))\n",
    "    else:\n",
    "        highest_resistance = None\n",
    "\n",
    "    # Process Member Action\n",
    "    member_actions = group[group['person'] == 'Member Action']['action'].apply(recode_member_action).values\n",
    "    if len(member_actions) > 0:\n",
    "        highest_member_action = max(member_actions, key=lambda x: member_action_ranking.get(x.strip(), 0))\n",
    "    else:\n",
    "        highest_member_action = None\n",
    "\n",
    "    # Concatenate actions\n",
    "    subject_actions = group[group['person'] == 'Subject Action']['action'].unique()\n",
    "    member_actions_with_descriptions = group[group['person'] == 'Member Action']['action'].unique()\n",
    "\n",
    "    return pd.Series({\n",
    "        'subject_resistance': highest_resistance,\n",
    "        'member_action_severity': highest_member_action,\n",
    "        'concatenated_subject_actions': ', '.join(subject_actions),\n",
    "        'concatenated_member_actions': ', '.join(member_actions_with_descriptions)\n",
    "    })"
   ]
  },
  {
   "cell_type": "markdown",
   "id": "b9d55622-7b13-4a34-a22e-7ee441e5b10c",
   "metadata": {},
   "source": [
    "## Step 6: Deduplicate the dataset by uid_force and uid\n",
    "In order to get one row per officer per incident (as multiple officers might have participated, with varying extents of involvement). Moreover, the highest 'ranking' of force and member action will be preserved in the deduplicated data frame."
   ]
  },
  {
   "cell_type": "code",
   "execution_count": 48,
   "id": "7b9c6066-b2e7-4b93-9cc9-162db66400a4",
   "metadata": {},
   "outputs": [],
   "source": [
    "# Apply the processing in one step and deduplicate the dataset\n",
    "deduplicated = force_clean.groupby(['uid_force', 'uid']).apply(process_group).reset_index()\n"
   ]
  },
  {
   "cell_type": "code",
   "execution_count": 49,
   "id": "01a96324-7707-4115-8f64-ec7a43c0e2fb",
   "metadata": {},
   "outputs": [],
   "source": [
    "# Merge the results back into the main dataset and drop duplicate columns\n",
    "force_deduplicated = force_clean.drop(columns=['person', 'action', 'resistance_type']).drop_duplicates(['uid_force', 'uid'])\n",
    "force_deduplicated = force_deduplicated.merge(deduplicated, on=['uid_force', 'uid'], how='left')"
   ]
  },
  {
   "cell_type": "code",
   "execution_count": 50,
   "id": "b49bc991-d2d0-4334-8248-e6c2bf0b9200",
   "metadata": {},
   "outputs": [],
   "source": [
    "# Drop rows where concatenated subject or member actions are missing\n",
    "force_deduplicated_cleaned = force_deduplicated.dropna(subset=['subject_resistance', 'member_action_severity'])\n",
    "\n",
    "# Verify that missing rows are dropped\n",
    "missing_val_after_drop = force_deduplicated_cleaned.isna().sum()\n"
   ]
  },
  {
   "cell_type": "code",
   "execution_count": 51,
   "id": "f8eb74ee-9d0a-4677-86e6-517ee734e2d4",
   "metadata": {},
   "outputs": [
    {
     "name": "stdout",
     "output_type": "stream",
     "text": [
      "uid_force                       0\n",
      "beat                            0\n",
      "weapons_discharged              0\n",
      "party_fired_first               0\n",
      "gender                          0\n",
      "race                            0\n",
      "appointed                       0\n",
      "rank                            0\n",
      "duty_status                     0\n",
      "in_uniform                      0\n",
      "civilian_gender                 0\n",
      "civilian_race                   0\n",
      "civilian_yob                    0\n",
      "civilian_armed                  0\n",
      "civilian_injured                0\n",
      "dt                              0\n",
      "uid                             0\n",
      "inside                          0\n",
      "civilian_age                    0\n",
      "subject_resistance              0\n",
      "member_action_severity          0\n",
      "concatenated_subject_actions    0\n",
      "concatenated_member_actions     0\n",
      "dtype: int64\n"
     ]
    }
   ],
   "source": [
    "missing_val_original = force_deduplicated_cleaned.isna().sum()\n",
    "print(missing_val_original)"
   ]
  },
  {
   "cell_type": "code",
   "execution_count": 52,
   "id": "df2d257f-a6e7-4bd5-b60e-383ce34a71c9",
   "metadata": {},
   "outputs": [
    {
     "name": "stdout",
     "output_type": "stream",
     "text": [
      "Final dataset shape: (77353, 23)\n"
     ]
    }
   ],
   "source": [
    "# Check the shape of the cleaned dataset to ensure rows were dropped\n",
    "print(\"Final dataset shape:\", force_deduplicated_cleaned.shape)"
   ]
  },
  {
   "cell_type": "code",
   "execution_count": 53,
   "id": "df2ff9f3-bef8-40ba-81db-01386d601d15",
   "metadata": {},
   "outputs": [
    {
     "name": "stdout",
     "output_type": "stream",
     "text": [
      "uid_force                       76919\n",
      "beat                              305\n",
      "weapons_discharged                  5\n",
      "party_fired_first                   4\n",
      "gender                              2\n",
      "race                                5\n",
      "appointed                         365\n",
      "rank                               42\n",
      "duty_status                         2\n",
      "in_uniform                          2\n",
      "civilian_gender                     2\n",
      "civilian_race                       5\n",
      "civilian_yob                       78\n",
      "civilian_armed                      2\n",
      "civilian_injured                    2\n",
      "dt                              52144\n",
      "uid                             12892\n",
      "inside                              2\n",
      "civilian_age                       69\n",
      "subject_resistance                  5\n",
      "member_action_severity              9\n",
      "concatenated_subject_actions     3544\n",
      "concatenated_member_actions      9565\n",
      "dtype: int64\n"
     ]
    }
   ],
   "source": [
    "# Check unique values in all columns\n",
    "unique_values = force_deduplicated_cleaned.nunique()\n",
    "\n",
    "# Display the number of unique values in each column\n",
    "print(unique_values)\n",
    "\n",
    "#Print unique values in each column - hashed due to sensitive data display\n",
    "#for column in force_deduplicated_cleaned.columns:\n",
    "   #print(f\"Unique values for {column}:\")\n",
    "   #print(force_deduplicated_cleaned[column].unique())\n",
    "   #print(\"\\n\")"
   ]
  },
  {
   "cell_type": "markdown",
   "id": "455d3426-8268-45a2-ad92-459c82d6a1ab",
   "metadata": {},
   "source": [
    "## Step 7: Recode rank\n",
    "The latest years in the data used codes instead of word abbreviations for rank, hence recoding was needed. The 4-digit numbers correspond to specific ranks within the CPD.\n",
    "Furthermore, rank categories needed to be recoded for clarity."
   ]
  },
  {
   "cell_type": "code",
   "execution_count": 55,
   "id": "299be131-9127-42c7-bb87-d3b22bd38a85",
   "metadata": {},
   "outputs": [
    {
     "name": "stdout",
     "output_type": "stream",
     "text": [
      "Unique values in the rank column before cleaning:\n",
      "['SERGEANT OF POLICE' 'POLICE OFFICER' 'LIEUTENANT OF POLICE'\n",
      " 'PO/FIELD TRNING OFF' 'CAPTAIN OF POLICE' 'PO ASSG CANINE HANDL'\n",
      " 'PO AS DETECTIVE' 'EXPL TECH 1' 'DETENTION AIDE' 'PO ASSIGN YOUTH OFF'\n",
      " 'PO ASGN GANG CRMS SP' 'POLICE AGENT' 'COMMANDER' 'PO/EXP DET CAN HAND'\n",
      " 'PO/MARINE OFFICER' 'PO (PER ARB AWARD)' 'PO/MOUNTED PAT OFF.'\n",
      " 'PO ASGN EVID. TECHNI' 'P O ASSGN SEC SPEC' 'DEP CHIEF'\n",
      " 'PO ASGN LATEN F/P EX' 'ASST DEPUTY SUP' 'PO ASSGN TRAFF SPEC'\n",
      " 'PO LEGAL OFF 1' 'SGT ASSGN SEC SPEC' 'PO LEGAL OFF 2' 'POL LAB TECH 4'\n",
      " 'CHIEF' 'SUPT OF POLICE' 'P.O. ASSIGNED AS HELICOPTER PILOT' '9161'\n",
      " '9171' '9164' '9173' '9152' '9165' '9175' '9122' '9168' '9752' '9206'\n",
      " '9151']\n"
     ]
    }
   ],
   "source": [
    "# Rank unique values\n",
    "unique_ranks = force_deduplicated_cleaned['rank'].unique()\n",
    "print(\"Unique values in the rank column before cleaning:\")\n",
    "print(unique_ranks)"
   ]
  },
  {
   "cell_type": "code",
   "execution_count": 56,
   "id": "4dd9b9b6-59bb-499f-9f9b-9a94e86d7639",
   "metadata": {},
   "outputs": [],
   "source": [
    "rank_classification = {\n",
    "    # Officers (General + Specialized)\n",
    "    'POLICE OFFICER': 'Officer',\n",
    "    'PO/FIELD TRNING OFF': 'Officer', \n",
    "    'PO ASSG CANINE HANDL': 'Officer',\n",
    "    'PO ASSIGN YOUTH OFF': 'Officer',\n",
    "    'PO ASGN GANG CRMS SP': 'Officer',\n",
    "    'POLICE AGENT': 'Officer',\n",
    "    'PO/EXP DET CAN HAND': 'Officer',\n",
    "    'PO/MARINE OFFICER': 'Officer',\n",
    "    'PO (PER ARB AWARD)': 'Officer',\n",
    "    'PO/MOUNTED PAT OFF.': 'Officer',\n",
    "    'P O ASSGN SEC SPEC': 'Officer',\n",
    "    'PO ASSGN LATEN F/P EX': 'Officer',\n",
    "    'PO ASSGN TRAFF SPEC': 'Officer',\n",
    "    'PO LEGAL OFF 1': 'Officer',\n",
    "    'PO LEGAL OFF 2': 'Officer',\n",
    "    'P.O. ASSIGNED AS HELICOPTER PILOT': 'Officer',\n",
    "    '9151': 'Officer', #Traffic specialist\n",
    "    '9152': 'Officer',  # Canine handler \n",
    "    '9161': 'Officer',  # General Police Officer\n",
    "    '9164': 'Officer',  # Field Training Officer\n",
    "    '9168': 'Officer',  # Officer as marine\n",
    "    \n",
    "    # Detectives\n",
    "    'PO AS DETECTIVE': 'Detective',\n",
    "    '9165': 'Detective',\n",
    "    # Sergeants\n",
    "    'SERGEANT OF POLICE': 'Sergeant',\n",
    "    'SGT ASSGN SEC SPEC': 'Sergeant',\n",
    "    '9171': 'Sergeant',\n",
    "    # Lieutenants\n",
    "    'LIEUTENANT OF POLICE': 'Lieutenant',\n",
    "    '9173': 'Lieutenant',\n",
    "    # Captains\n",
    "    'CAPTAIN OF POLICE': 'Captain',\n",
    "    '9175': 'Captain',\n",
    "    # Technicians\n",
    "    'EXPL TECH 1': 'Technician',\n",
    "    'POL LAB TECH 4': 'Technician',\n",
    "    '9206': 'Technician',\n",
    "    'PO ASGN EVID. TECHNI': 'Technician', \n",
    "    'PO ASGN LATEN F/P EX': 'Technician', #fingerprint technician\n",
    "    # Commanders and above\n",
    "    'COMMANDER': 'Commander',\n",
    "    '9752': 'Commander',\n",
    "    'DEP CHIEF': 'Deputy Chief',\n",
    "    'ASST DEPUTY SUP': 'Assistant Deputy Superintendent',\n",
    "    'CHIEF': 'Chief',\n",
    "    'SUPT OF POLICE': 'Superintendent',\n",
    "    # Aides\n",
    "    'DETENTION AIDE': 'Aide',\n",
    "    '9122': 'Aide'\n",
    "}"
   ]
  },
  {
   "cell_type": "code",
   "execution_count": 57,
   "id": "ecb71243-a995-44e9-b81e-d2225493cdee",
   "metadata": {},
   "outputs": [],
   "source": [
    "force_deduplicated_cleaned['rank'] = force_deduplicated_cleaned['rank'].replace(rank_classification)\n"
   ]
  },
  {
   "cell_type": "code",
   "execution_count": 58,
   "id": "82b2e392-beac-4b67-9e69-15e9ad185d70",
   "metadata": {},
   "outputs": [
    {
     "name": "stdout",
     "output_type": "stream",
     "text": [
      "Unique values in rank:\n",
      "['Sergeant' 'Officer' 'Lieutenant' 'Captain' 'Detective' 'Technician'\n",
      " 'Aide' 'Commander' 'Deputy Chief' 'Assistant Deputy Superintendent'\n",
      " 'Chief' 'Superintendent']\n"
     ]
    }
   ],
   "source": [
    "# Rank unique values\n",
    "unique_ranks = force_deduplicated_cleaned['rank'].unique()\n",
    "print(\"Unique values in rank:\")\n",
    "print(unique_ranks)"
   ]
  },
  {
   "cell_type": "code",
   "execution_count": 59,
   "id": "9ba95cca-4896-4eeb-9cc3-bfa59760d109",
   "metadata": {},
   "outputs": [
    {
     "name": "stdout",
     "output_type": "stream",
     "text": [
      "Years present in the data after cleaning: [2004 2005 2006 2007 2008 2009 2010 2011 2012 2013 2014 2015 2016 2017\n",
      " 2018 2019 2020]\n"
     ]
    }
   ],
   "source": [
    "force_deduplicated_cleaned = force_deduplicated_cleaned.dropna(subset=['rank'])\n",
    "# Check how many unique entries are present in dt after deduplication\n",
    "unique_years_post_cleaning = force_deduplicated_cleaned['dt'].dt.year.unique()\n",
    "print(f\"Years present in the data after cleaning: {unique_years_post_cleaning}\")"
   ]
  },
  {
   "cell_type": "markdown",
   "id": "4d952a33-a6a9-426a-82ef-af25c419962a",
   "metadata": {},
   "source": [
    "## Step 8: Clean beats and derive police district numbers\n",
    "Beats should be 4 digit codes, but many observations in the dataset have less characters. The first 2 digits of every beat indicate the police district it's in. As acs and crime data are at district level, a new variable needs to be derived from 'beat'."
   ]
  },
  {
   "cell_type": "code",
   "execution_count": 61,
   "id": "c06c4d71-e407-40d6-820f-b27977b5f2d4",
   "metadata": {},
   "outputs": [
    {
     "name": "stdout",
     "output_type": "stream",
     "text": [
      "['1113' '1322' '1131' '1112' '1134' '1121' '1122' '1331' '3100' '1124'\n",
      " '1034' '1115' '1333' '2532' '1132' '1524' '1114' '1125' '1332' '1231'\n",
      " '0134' '1111' '1412' '1512' '1531' '1135' '1422' '1223' '1611' '1312'\n",
      " '1222' '1713' '1133' '0000' '2531' '1731' '0132' '1011' '2523' '1021'\n",
      " '1213' '1722' '1123' '1712' '1324' '2515' '1413' '1522' '1711' '1623'\n",
      " '1511' '2431' '2324' '2534' '1924' '2313' '2533' '1732' '1431' '1423'\n",
      " '2522' '2333' '2521' '0112' '1311' '1723' '0122' '1414' '2012' '1532'\n",
      " '2433' '1631' '1411' '1013' '1022' '1421' '2423' '2013' '2322' '0324'\n",
      " '0434' '0524' '0322' '0421' '1533' '1824' '1822' '2024' '0423' '2011'\n",
      " '2212' '1523' '1832' '2033' '2535' '1733' '0323' '0621' '1211' '1434'\n",
      " '2311' '2432' '0533' '1913' '0331' '2422' '0414' '2234' '0321' '0522'\n",
      " '0413' '0725' '2221' '0234' '1823' '0812' '0623' '0922' '0611' '0433'\n",
      " '1612' '0431' '0823' '0311' '0933' '0723' '1624' '0632' '0734' '0822'\n",
      " '2411' '0613' '0424' '0735' '0833' '2332' '1833' '0923' '0715' '0713'\n",
      " '0113' '0531' '0825' '0824' '0422' '0532' '2424' '1032' '0815' '0634'\n",
      " '0612' '0111' '0232' '1821' '0614' '0314' '0624' '0512' '0914' '1834'\n",
      " '1014' '0911' '1922' '1023' '2031' '0631' '1923' '0932' '0732' '2133'\n",
      " '0834' '2525' '0212' '2323' '1613' '0831' '1814' '0814' '0224' '0511'\n",
      " '2023' '0934' '0523' '0726' '0724' '0411' '0222' '0332' '2232' '0832'\n",
      " '0133' '0731' '0313' '2223' '2112' '1012' '0811' '0921' '0622' '0924'\n",
      " '0714' '1622' '0712' '0211' '0123' '1933' '1831' '0722' '1424' '0333'\n",
      " '0221' '2512' '2412' '0213' '2132' '2413' '2022' '0412' '0835' '1614'\n",
      " '1233' '0334' '1024' '1633' '0513' '0733' '1911' '1724' '1031' '2123'\n",
      " '2111' '0312' '0925' '0915' '1651' '0935' '2131' '0931' '0131' '1513'\n",
      " '0913' '0912' '0214' '1433' '1812' '2312' '1323' '1912' '2331' '1932'\n",
      " '2213' '2122' '2211' '0233' '0711' '0231' '2233' '2032' '1634' '1224'\n",
      " '0223' '2524' '1313' '1811' '2514' '2222' '2113' '0813' '1813' '1212'\n",
      " '1033' '0432' '1632' '2511' '2513' '0633' '1931' '0124' '0821' '1621'\n",
      " '1232' '1432' '2124' '1654' '1655' '1653' '1925' '1934' '0114' '1935'\n",
      " '1921' '0225' '0235' '0121' '1915' '1652' '1914' '4100' '0215' '1215'\n",
      " '1234' '1214' '1235' '1221' '1225']\n"
     ]
    }
   ],
   "source": [
    "# Ensure beat codes are 4 digits by padding with leading zeros\n",
    "force_deduplicated_cleaned['beat'] = force_deduplicated_cleaned['beat'].apply(lambda x: str(x).zfill(4))\n",
    "\n",
    "# Check the unique beat codes after padding\n",
    "print(force_deduplicated_cleaned['beat'].unique())"
   ]
  },
  {
   "cell_type": "code",
   "execution_count": 62,
   "id": "461b44f8-3bb7-40e7-be6c-774e18227a4a",
   "metadata": {},
   "outputs": [
    {
     "name": "stdout",
     "output_type": "stream",
     "text": [
      "['11' '13' '31' '10' '25' '15' '12' '01' '14' '16' '17' '00' '24' '23'\n",
      " '19' '20' '03' '04' '05' '18' '22' '06' '07' '02' '08' '09' '21' '41']\n"
     ]
    }
   ],
   "source": [
    "# Extract district number from the first two digits of the beat\n",
    "force_deduplicated_cleaned['district'] = force_deduplicated_cleaned['beat'].str[:2]\n",
    "\n",
    "# Check the unique district codes - 31 is not a valid district, neither is 41 or 00\n",
    "print(force_deduplicated_cleaned['district'].unique())"
   ]
  },
  {
   "cell_type": "code",
   "execution_count": 63,
   "id": "fd8158e7-f53c-44ec-9c11-7a759d877d6a",
   "metadata": {},
   "outputs": [],
   "source": [
    "# Remove invalid districts\n",
    "force_deduplicated_cleaned = force_deduplicated_cleaned[~force_deduplicated_cleaned['district'].isin(['00', '31', '41'])]\n"
   ]
  },
  {
   "cell_type": "code",
   "execution_count": 64,
   "id": "31c286af-4e21-461d-b342-2cff997cfd56",
   "metadata": {},
   "outputs": [],
   "source": [
    "#At the end of 2012, district 13 was merged into 12, district 21 into 2, and district 23 into 19. In order to merge with the crime data, which only has current boundaries, we need to recode these districts\n",
    "# Define the mapping for deprecated districts\n",
    "district_mapping = {\n",
    "    '13': '12',  # District 13 was absorbed by District 12\n",
    "    '21': '2',   # District 21 was absorbed by District 2\n",
    "    '23': '19',  # District 31 doesn't exist anymore, we can drop it\n",
    "}\n",
    "\n",
    "# Apply the mapping to your 'district' column\n",
    "force_deduplicated_cleaned['district'] = force_deduplicated_cleaned['district'].replace(district_mapping)\n",
    "force_deduplicated_cleaned['district'] = force_deduplicated_cleaned['district'].str.lstrip('0')\n"
   ]
  },
  {
   "cell_type": "code",
   "execution_count": 65,
   "id": "8769a9ff-ef8b-4b41-b8cd-df46a7d4f4ed",
   "metadata": {},
   "outputs": [],
   "source": [
    "#Drop columns\n",
    "columns_to_drop = ['beat', 'concatenated_subject_actions', 'concatenated_member_actions']\n",
    "force_deduplicated_cleaned = force_deduplicated_cleaned.drop(columns=columns_to_drop)"
   ]
  },
  {
   "cell_type": "code",
   "execution_count": 66,
   "id": "662e890a-c1d2-4425-b815-28c0b6e13e00",
   "metadata": {},
   "outputs": [],
   "source": [
    "#Drop columns\n",
    "columns_to_drop = ['civilian_yob']\n",
    "force_deduplicated_cleaned = force_deduplicated_cleaned.drop(columns=columns_to_drop)"
   ]
  },
  {
   "cell_type": "code",
   "execution_count": 67,
   "id": "d8a37889-c22d-4f46-9010-79d3c852d33c",
   "metadata": {},
   "outputs": [
    {
     "data": {
      "text/plain": [
       "Index(['uid_force', 'weapons_discharged', 'party_fired_first', 'gender',\n",
       "       'race', 'appointed', 'rank', 'duty_status', 'in_uniform',\n",
       "       'civilian_gender', 'civilian_race', 'civilian_armed',\n",
       "       'civilian_injured', 'dt', 'uid', 'inside', 'civilian_age',\n",
       "       'subject_resistance', 'member_action_severity', 'district'],\n",
       "      dtype='object')"
      ]
     },
     "execution_count": 67,
     "metadata": {},
     "output_type": "execute_result"
    }
   ],
   "source": [
    "force_deduplicated_cleaned.columns"
   ]
  },
  {
   "cell_type": "markdown",
   "id": "9263dfba-1af5-4137-843c-4cc230b75e24",
   "metadata": {},
   "source": [
    "## Step 9: Derive years and months of experience (officer)\n",
    "From the column appointed"
   ]
  },
  {
   "cell_type": "code",
   "execution_count": 69,
   "id": "dc4669f9-9ba8-45f6-8a7d-88e2889200b5",
   "metadata": {},
   "outputs": [],
   "source": [
    "# Convert 'appointed' and 'dt' to datetime \n",
    "force_deduplicated_cleaned['appointed'] = pd.to_datetime(force_deduplicated_cleaned['appointed'], errors='coerce')\n",
    "force_deduplicated_cleaned['dt'] = pd.to_datetime(force_deduplicated_cleaned['dt'], errors='coerce')\n",
    "\n",
    "# Filter out rows where 'appointed' is later than 'dt' (incident date)\n",
    "valid_rows = force_deduplicated_cleaned['appointed'] <= force_deduplicated_cleaned['dt']\n",
    "\n",
    "# Filter the dataset for valid rows\n",
    "force_deduplicated_cleaned = force_deduplicated_cleaned[valid_rows]\n",
    "\n",
    "# Recalculate experience in years\n",
    "force_deduplicated_cleaned['experience_years'] = (force_deduplicated_cleaned['dt'] - force_deduplicated_cleaned['appointed']).dt.total_seconds() / (365.25 * 24 * 60 * 60)\n",
    "\n",
    "# Recalculate experience in months\n",
    "force_deduplicated_cleaned['experience_months'] = force_deduplicated_cleaned['experience_years'] * 12\n",
    "\n",
    "# Round the experience months to whole numbers\n",
    "force_deduplicated_cleaned['experience_months'] = force_deduplicated_cleaned['experience_months'].round()\n",
    "# Round experience_years to whole numbers\n",
    "force_deduplicated_cleaned['experience_years'] = force_deduplicated_cleaned['experience_years'].round()"
   ]
  },
  {
   "cell_type": "code",
   "execution_count": 72,
   "id": "7ac660a0-1311-4c48-9ee7-2ae7bfcdcfe6",
   "metadata": {},
   "outputs": [
    {
     "name": "stdout",
     "output_type": "stream",
     "text": [
      "Class distribution for 'civilian_injured':\n",
      "civilian_injured\n",
      "False    0.760593\n",
      "True     0.239407\n",
      "Name: proportion, dtype: float64\n"
     ]
    },
    {
     "data": {
      "image/png": "[encoded data removed]",
      "text/plain": [
       "<Figure size 640x480 with 1 Axes>"
      ]
     },
     "metadata": {},
     "output_type": "display_data"
    }
   ],
   "source": [
    "# istribution of the 'civilian_injured' column\n",
    "class_distribution = force_deduplicated_cleaned['civilian_injured'].value_counts(normalize=True)\n",
    "\n",
    "# Print the distribution as proportions\n",
    "print(\"Class distribution for 'civilian_injured':\")\n",
    "print(class_distribution)\n",
    "\n",
    "#visualize the distribution with a bar plot\n",
    "\n",
    "# Bar plot to visualize the distribution\n",
    "class_distribution.plot(kind='bar', color=['blue', 'orange'])\n",
    "plt.title(\"Class Distribution for 'civilian_injured'\")\n",
    "plt.xlabel(\"Injured (False/True)\")\n",
    "plt.ylabel(\"Proportion\")\n",
    "plt.xticks(rotation=0)\n",
    "plt.show()"
   ]
  },
  {
   "cell_type": "code",
   "execution_count": 75,
   "id": "957f3c56-6781-4e2e-80c0-536e38960285",
   "metadata": {},
   "outputs": [
    {
     "name": "stdout",
     "output_type": "stream",
     "text": [
      "Final dataset shape: (76698, 22)\n"
     ]
    }
   ],
   "source": [
    "# Check the shape of the cleaned dataset to ensure rows were dropped\n",
    "print(\"Final dataset shape:\", force_deduplicated_cleaned.shape)"
   ]
  },
  {
   "cell_type": "markdown",
   "id": "e717a4cb-6ab3-4432-bd30-f686ba698551",
   "metadata": {},
   "source": [
    "## Step 10: Export the cleaned use of force data frame"
   ]
  },
  {
   "cell_type": "code",
   "execution_count": 80,
   "id": "52347e72-9d77-4311-b352-6d79596ac3ec",
   "metadata": {},
   "outputs": [],
   "source": [
    "# Save to a parquet file\n",
    "force_deduplicated_cleaned.to_parquet('force_clean_updated.parquet', engine='pyarrow')"
   ]
  },
  {
   "cell_type": "code",
   "execution_count": 81,
   "id": "f455daf3-a5d2-4d8f-835f-b4de81566791",
   "metadata": {},
   "outputs": [
    {
     "name": "stdout",
     "output_type": "stream",
     "text": [
      "    year  force_count\n",
      "0   2004         4084\n",
      "1   2005         5041\n",
      "2   2006         4659\n",
      "3   2007         4604\n",
      "4   2008         5109\n",
      "5   2009         5251\n",
      "6   2010         5286\n",
      "7   2011         5359\n",
      "8   2012         5400\n",
      "9   2013         5295\n",
      "10  2014         5354\n",
      "11  2015         5147\n",
      "12  2016         4396\n",
      "13  2017         4117\n",
      "14  2018         3158\n",
      "15  2019         3232\n",
      "16  2020         1206\n"
     ]
    }
   ],
   "source": [
    "# Convert the 'dt' column to datetime if it's not already in that format\n",
    "force_deduplicated_cleaned['dt'] = pd.to_datetime(force_deduplicated_cleaned['dt'], errors='coerce')\n",
    "\n",
    "# Extract the year from the 'dt' column\n",
    "force_deduplicated_cleaned['year'] = force_deduplicated_cleaned['dt'].dt.year\n",
    "\n",
    "# Group by the 'year' column and count the number of instances of force for each year\n",
    "force_per_year = force_deduplicated_cleaned.groupby('year').size().reset_index(name='force_count')\n",
    "\n",
    "# Print the results\n",
    "print(force_per_year)"
   ]
  },
  {
   "cell_type": "code",
   "execution_count": null,
   "id": "c02986c0-6fd0-437b-8096-56588990009d",
   "metadata": {},
   "outputs": [],
   "source": []
  }
 ],
 "metadata": {
  "kernelspec": {
   "display_name": "Python 3",
   "language": "python",
   "name": "python3"
  },
  "language_info": {
   "codemirror_mode": {
    "name": "ipython",
    "version": 3
   },
   "file_extension": ".py",
   "mimetype": "text/x-python",
   "name": "python",
   "nbconvert_exporter": "python",
   "pygments_lexer": "ipython3",
   "version": "3.11.5"
  }
 },
 "nbformat": 4,
 "nbformat_minor": 5
}

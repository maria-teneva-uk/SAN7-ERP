{
 "cells": [
  {
   "cell_type": "markdown",
   "id": "5537ab69",
   "metadata": {},
   "source": [
    "# Preprocessing Crime Data with ACS Data 2010-2020\n",
    "This notebook is designed preprocess crime data with ACS (American Community Survey) from 2010 to 2020. Crime data is available from the CPD, while ACS data is directly accessed via an API key. Information on how to get an API key will be provided in the documentation. However, as indiividual API keys are sensitve information, the code below will omit the actua API key variable. \n",
    "Note: District boundaries in CPD changed in 2012, however, their crime dataset reflects current boundaries. As such, the most recent geospatial file will be used (post-2012 period).\n",
    "## Steps Overview:\n",
    "1. Load census and district spatial files which reflect boundaries from 2010 onwards\n",
    "2. Map census tracts to police districts and perform areal weighting\n",
    "3. Access ACS data from 2010-2020 using API \n",
    "4. Aggregate ACS data from 2010-2020 to police district level\n",
    "5. Load 2001 to 2024 crime data from CPD\n",
    "6. Filter crime data for 2010-2020 and check district categories\n",
    "7. Derive 2010-2020 crime rates using ACS total population and crime dataset\n",
    "8. Save ACS 2010-2020 and Crime 2010-2020 files\n"
   ]
  },
  {
   "cell_type": "code",
   "execution_count": 90,
   "id": "36ff9984-2776-4f8b-9012-8c579048156a",
   "metadata": {},
   "outputs": [],
   "source": [
    "import pandas as pd\n",
    "import geopandas as gpd\n",
    "import numpy as np\n",
    "from census import Census\n",
    "from us import states\n",
    "import pkg_resources "
   ]
  },
  {
   "cell_type": "code",
   "execution_count": 92,
   "id": "5024a1f1-e749-4094-b66f-7a6740aa6347",
   "metadata": {},
   "outputs": [
    {
     "name": "stdout",
     "output_type": "stream",
     "text": [
      "pandas version: 2.0.3\n",
      "geopandas version: 1.0.1\n",
      "numpy version: 1.24.3\n",
      "census version: 0.8.22\n",
      "states version: 3.2.0\n"
     ]
    }
   ],
   "source": [
    "print(\"pandas version:\", pd.__version__)\n",
    "print(\"geopandas version:\", gpd.__version__)\n",
    "print(\"numpy version:\", np.__version__)\n",
    "\n",
    "# Use pkg_resources to get the version for Census and states\n",
    "print(\"census version:\", pkg_resources.get_distribution(\"census\").version)\n",
    "print(\"states version:\", pkg_resources.get_distribution(\"us\").version)\n"
   ]
  },
  {
   "cell_type": "code",
   "execution_count": 94,
   "id": "1094728b-947f-4a0d-b252-3f67f694caaf",
   "metadata": {},
   "outputs": [],
   "source": [
    "import warnings\n",
    "\n",
    "# Suppress all warnings\n",
    "warnings.filterwarnings('ignore')"
   ]
  },
  {
   "cell_type": "markdown",
   "id": "2ec503e0",
   "metadata": {},
   "source": [
    "## Step 1: Load census and district spatial files which reflect boundaries from 2010 onwards\n",
    "Tracts - https://data.cityofchicago.org/Facilities-Geographic-Boundaries/Boundaries-Census-Tracts-2010/5jrd-6zik\n",
    "\n",
    "Districts - https://data.cityofchicago.org/Public-Safety/Boundaries-Police-Beats-effective-12-19-2012-/dq28-4w9c"
   ]
  },
  {
   "cell_type": "code",
   "execution_count": 97,
   "id": "24fd32de-d5da-4e4e-bd33-ac79a5b37e9e",
   "metadata": {},
   "outputs": [],
   "source": [
    "# Load geospatial data \n",
    "chicago_census = gpd.read_file(\"geo_export_4ebc9dd7-55e4-4c2e-9928-4ee080c61016.shp\")\n",
    "cpd_districts = gpd.read_file(\"geo_export_04c70f5d-35cd-4d51-82f4-222f5c605f9a.shp\")\n",
    "\n",
    "# Remove District 31, which is not an official district\n",
    "cpd_districts = cpd_districts[cpd_districts['dist_label'] != '31ST']"
   ]
  },
  {
   "cell_type": "code",
   "execution_count": 99,
   "id": "ffd6555c-1dec-4d54-b402-6f92957f4a3a",
   "metadata": {},
   "outputs": [],
   "source": [
    "# Reproject census tracts and police districts to a projected CRS for accurate area calculations\n",
    "chicago_census = chicago_census.to_crs(epsg=26971) \n",
    "cpd_districts = cpd_districts.to_crs(epsg=26971)"
   ]
  },
  {
   "cell_type": "markdown",
   "id": "25d4d375-1cdd-4dbb-9b9b-1edf9596765c",
   "metadata": {},
   "source": [
    "## Step 2: Map census tracts to police districts and perform areal weighting"
   ]
  },
  {
   "cell_type": "code",
   "execution_count": 51,
   "id": "1da699ac-53fc-4cfe-80c1-429a8f1ea0a4",
   "metadata": {},
   "outputs": [],
   "source": [
    "# Perform spatial intersection to get tracts intersecting districts\n",
    "tracts_to_districts = gpd.overlay(chicago_census, cpd_districts, how='intersection')\n",
    "\n",
    "# Calculate intersection area\n",
    "tracts_to_districts['intersection_area'] = tracts_to_districts.geometry.area\n",
    "\n",
    "# Calculate total area for each census tract\n",
    "tracts_to_districts['total_tract_area'] = tracts_to_districts.groupby('geoid10')['intersection_area'].transform('sum')\n",
    "\n",
    "# Calculate the proportion of each tract within the district\n",
    "tracts_to_districts['proportion'] = tracts_to_districts['intersection_area'] / tracts_to_districts['total_tract_area']\n",
    "\n",
    "# Select relevant columns for the merge\n",
    "tracts_to_districts = tracts_to_districts[['geoid10', 'dist_num', 'proportion']]"
   ]
  },
  {
   "cell_type": "markdown",
   "id": "1e7090a0-fee5-49b1-97ff-1bd17afb9f04",
   "metadata": {},
   "source": [
    "## Step 3: Access ACS data from 2010-2020 using Census API "
   ]
  },
  {
   "cell_type": "code",
   "execution_count": 16,
   "id": "bb771856-4a7c-4db6-92ee-05244c809a38",
   "metadata": {},
   "outputs": [],
   "source": [
    "# Initialize Census API- need to obtain api key from US Census Bureau\n",
    "#c = Census(\"\")\n",
    "\n",
    "# Define ACS variables\n",
    "acs_variables = [\n",
    "    'B01003_001E',  # Total Population\n",
    "    'B03002_003E',  # Non-Hispanic White\n",
    "    'B03002_004E',  # Non-Hispanic Black\n",
    "    'B03002_006E',  # Non-Hispanic Asian\n",
    "    'B03002_012E',  # Hispanic or Latino\n",
    "    'C17002_001E',  # Population for whom poverty status is determined\n",
    "    'C17002_002E',  # Population under 0.50 (extreme poverty)\n",
    "    'C17002_003E',  # Population between 0.50 to 0.99 (poverty threshold)\n",
    "]\n",
    "\n",
    "# Function to pull ACS data for a specific year and state\n",
    "def get_acs_data(year, state_fips):\n",
    "    acs_data = c.acs5.state_county_tract(acs_variables, state_fips, \"*\", \"*\", year=year)\n",
    "    df = pd.DataFrame(acs_data)\n",
    "    df['year'] = year\n",
    "    return df\n",
    "\n",
    "# Retrieve ACS data for Illinois (state FIPS: 17) from 2010-2020\n",
    "acs_data_post_2009 = pd.concat([get_acs_data(year, states.IL.fips) for year in range(2010, 2021)])\n",
    "\n",
    "# Convert 'tract' to match GEOID format\n",
    "acs_data_post_2009['GEOID'] = acs_data_post_2009['state'] + acs_data_post_2009['county'] + acs_data_post_2009['tract']\n",
    "\n",
    "# Fill NAs with 0 after data retrieval to avoid calculation issues\n",
    "acs_data_post_2009.fillna(0, inplace=True)"
   ]
  },
  {
   "cell_type": "markdown",
   "id": "bb8bbbd3-aff3-4c76-b84e-2048fe7b957c",
   "metadata": {},
   "source": [
    "## Step 4: Aggregate ACS data from 2010-2020 to police district level"
   ]
  },
  {
   "cell_type": "code",
   "execution_count": 54,
   "id": "54811d58-ba7e-42ec-8725-e009a4d5153d",
   "metadata": {},
   "outputs": [],
   "source": [
    "# Merge ACS data with the spatial join results (tract to district mapping)\n",
    "acs_mapped_post_2009 = acs_data_post_2009.merge(tracts_to_districts, how='inner', left_on='GEOID', right_on='geoid10')\n",
    "\n",
    "# List of ACS columns to apply the proportion (including poverty and race)\n",
    "acs_columns_post_2009 = [\n",
    "    'B01003_001E',  # Total Population\n",
    "    'C17002_001E', 'C17002_002E', 'C17002_003E',  # Poverty-related\n",
    "    'B03002_003E', 'B03002_004E', 'B03002_006E', 'B03002_012E'  # Race-related\n",
    "]\n",
    "\n",
    "# Apply the proportion to each ACS variable\n",
    "for col in acs_columns_post_2009:\n",
    "    acs_mapped_post_2009[col] = acs_mapped_post_2009[col] * acs_mapped_post_2009['proportion']\n",
    "    \n",
    "# Fill NAs before any calculations\n",
    "acs_mapped_post_2009.fillna(0, inplace=True)"
   ]
  },
  {
   "cell_type": "code",
   "execution_count": 56,
   "id": "d276e345-797f-4dc2-968c-f538a0f52272",
   "metadata": {},
   "outputs": [],
   "source": [
    "# Group by district and year and aggregate the results\n",
    "district_aggregated_post_2009 = acs_mapped_post_2009.groupby(['dist_num', 'year']).agg({\n",
    "    'B01003_001E': 'sum',  # Total Population\n",
    "    'C17002_001E': 'sum',  # Population for whom poverty status is determined\n",
    "    'C17002_002E': 'sum',  # Extreme poverty population\n",
    "    'C17002_003E': 'sum',  # Poverty population\n",
    "    'B03002_003E': 'sum',  # Non-Hispanic White population\n",
    "    'B03002_004E': 'sum',  # Non-Hispanic Black population\n",
    "    'B03002_006E': 'sum',  # Non-Hispanic Asian population\n",
    "    'B03002_012E': 'sum',  # Hispanic or Latino population\n",
    "}).reset_index()\n"
   ]
  },
  {
   "cell_type": "code",
   "execution_count": 58,
   "id": "0b0ccdfe-269b-4ec6-a4ba-5631a7b9bdb1",
   "metadata": {},
   "outputs": [
    {
     "name": "stdout",
     "output_type": "stream",
     "text": [
      "  dist_num  year  Total_Population  Total_Population_Poverty_Status  \\\n",
      "0        1  2010      51174.689591                     48946.477777   \n",
      "1        1  2011      55123.050385                     51973.082432   \n",
      "2        1  2012      60767.569981                     57014.500862   \n",
      "3        1  2013      64425.167006                     59988.926083   \n",
      "4        1  2014      69062.536393                     64216.281782   \n",
      "\n",
      "   Percent_Hispanic  Percent_NonHispanic_White  Percent_NonHispanic_Black  \\\n",
      "0          4.535282                  50.789549                  26.302506   \n",
      "1          5.561307                  52.407894                  23.443942   \n",
      "2          5.808599                  51.839222                  21.521724   \n",
      "3          6.191689                  52.317683                  20.140626   \n",
      "4          6.459819                  51.228282                  20.358474   \n",
      "\n",
      "   Percent_NonHispanic_Asian  Poverty_Percent  \n",
      "0                  15.871517        13.697351  \n",
      "1                  15.983563        14.149353  \n",
      "2                  18.006061        15.076500  \n",
      "3                  18.651513        14.801959  \n",
      "4                  19.105590        14.735291  \n"
     ]
    }
   ],
   "source": [
    "# Calculate derived percentages for race/ethnicity and poverty\n",
    "district_aggregated_post_2009['Percent_Hispanic'] = (district_aggregated_post_2009['B03002_012E'] / district_aggregated_post_2009['B01003_001E']) * 100\n",
    "district_aggregated_post_2009['Percent_NonHispanic_White'] = (district_aggregated_post_2009['B03002_003E'] / district_aggregated_post_2009['B01003_001E']) * 100\n",
    "district_aggregated_post_2009['Percent_NonHispanic_Black'] = (district_aggregated_post_2009['B03002_004E'] / district_aggregated_post_2009['B01003_001E']) * 100\n",
    "district_aggregated_post_2009['Percent_NonHispanic_Asian'] = (district_aggregated_post_2009['B03002_006E'] / district_aggregated_post_2009['B01003_001E']) * 100\n",
    "\n",
    "# Calculate poverty percent\n",
    "district_aggregated_post_2009['Poverty_Percent'] = ((district_aggregated_post_2009['C17002_002E'] + district_aggregated_post_2009['C17002_003E']) / district_aggregated_post_2009['C17002_001E']) * 100\n",
    "\n",
    "# Drop unnecessary columns\n",
    "district_aggregated_post_2009 = district_aggregated_post_2009.drop(columns=[\n",
    "    'B03002_003E', 'B03002_004E', 'B03002_006E', 'B03002_012E',  # Race columns\n",
    "    'C17002_002E', 'C17002_003E'  # Poverty-related columns\n",
    "])\n",
    "\n",
    "# Rename columns for clarity\n",
    "district_aggregated_post_2009 = district_aggregated_post_2009.rename(columns={\n",
    "    'B01003_001E': 'Total_Population',\n",
    "    'C17002_001E': 'Total_Population_Poverty_Status'\n",
    "})\n",
    "\n",
    "# Show the result\n",
    "print(district_aggregated_post_2009.head())"
   ]
  },
  {
   "cell_type": "markdown",
   "id": "8e7352d4",
   "metadata": {},
   "source": [
    "## Step 5: Load crime data from 2001 to 2024 from the CPD"
   ]
  },
  {
   "cell_type": "code",
   "execution_count": 61,
   "id": "21e6e249-2a23-4f05-a250-7f04bc73ef62",
   "metadata": {},
   "outputs": [],
   "source": [
    "#load full crime data #replace with correct data file name\n",
    "crime_data = pd.read_parquet('crimeunits2409.parquet', engine=\"pyarrow\")\n"
   ]
  },
  {
   "cell_type": "code",
   "execution_count": 62,
   "id": "1164ca56-4773-43de-aa27-caa6b73d14b1",
   "metadata": {},
   "outputs": [
    {
     "name": "stdout",
     "output_type": "stream",
     "text": [
      "Empty DataFrame\n",
      "Columns: [Date, ID, Beat, District, Ward, Arrest, Latitude, Longitude, Primary Type, Crime_Category, year, month]\n",
      "Index: []\n"
     ]
    }
   ],
   "source": [
    "# Convert 'Date' column to datetime format\n",
    "crime_data['Date'] = pd.to_datetime(crime_data['Date'], errors='coerce')\n",
    "# Extract year and month\n",
    "crime_data['year'] = crime_data['Date'].dt.year\n",
    "crime_data['month'] = crime_data['Date'].dt.month\n",
    "\n",
    "# Check for any rows where the 'Date' conversion failed\n",
    "print(crime_data[crime_data['Date'].isna()].head())"
   ]
  },
  {
   "cell_type": "markdown",
   "id": "3f636f8a-d57b-45ec-963e-546390f5af33",
   "metadata": {},
   "source": [
    "## Step 6: Filter crime data for 2010-2020 and check district categories"
   ]
  },
  {
   "cell_type": "code",
   "execution_count": 101,
   "id": "2d710ee2-09e0-4cac-b9f5-2d0a9d29d4a4",
   "metadata": {},
   "outputs": [],
   "source": [
    "# Filter the crime data for years 2010-2020\n",
    "crime_filtered_2010_2020 = crime_data[(crime_data['year'] >= 2010) & (crime_data['year'] <= 2020)]\n"
   ]
  },
  {
   "cell_type": "code",
   "execution_count": 102,
   "id": "601e2e70-04a1-4594-a54a-55e17c2beece",
   "metadata": {},
   "outputs": [
    {
     "name": "stdout",
     "output_type": "stream",
     "text": [
      "Unique districts in crime_data for 2010-2020: ['006' '004' '009' '011' '025' '010' '002' '008' '019' '024' '001' '007'\n",
      " '017' '018' '005' '022' '003' '020' '012' '014' '016' '015']\n"
     ]
    }
   ],
   "source": [
    "# Verify unique districts to ensure formatting is correct\n",
    "print(\"Unique districts in crime_data for 2010-2020:\", crime_filtered_2010_2020['District'].unique())\n",
    "\n",
    "# Aggregate crime data by district, year, month, and crime category\n",
    "crime_aggregated_2010_2020 = crime_filtered_2010_2020.groupby(['District', 'year', 'month', 'Crime_Category']).size().unstack(fill_value=0).reset_index()\n",
    "\n"
   ]
  },
  {
   "cell_type": "code",
   "execution_count": 103,
   "id": "6e28fd64-d035-438a-97e7-9cd2d07ef223",
   "metadata": {},
   "outputs": [
    {
     "name": "stdout",
     "output_type": "stream",
     "text": [
      "['1' '10' '11' '12' '14' '15' '16' '17' '18' '19' '2' '20' '22' '24' '25'\n",
      " '3' '4' '5' '6' '7' '8' '9']\n",
      "['1' '2' '3' '4' '5' '6' '7' '8' '9' '10' '11' '12' '14' '15' '16' '17'\n",
      " '18' '19' '20' '22' '24' '25']\n"
     ]
    }
   ],
   "source": [
    "# Remove leading zeros from the 'District' column in the crime data\n",
    "crime_aggregated_2010_2020['District'] = crime_aggregated_2010_2020['District'].str.lstrip('0')\n",
    "\n",
    "# Verify that the formats are now aligned\n",
    "print(district_aggregated_post_2009['dist_num'].unique())\n",
    "print(crime_aggregated_2010_2020['District'].unique())"
   ]
  },
  {
   "cell_type": "markdown",
   "id": "74e8a7c5-5e5e-44eb-a73a-2a23a9300de7",
   "metadata": {},
   "source": [
    "## Step 7: Derive 2010-2020 crime rates using ACS total population and crime dataset"
   ]
  },
  {
   "cell_type": "code",
   "execution_count": 106,
   "id": "1982c0c2-965f-4007-bbf1-dc37b29aec62",
   "metadata": {},
   "outputs": [],
   "source": [
    "# Merge the aggregated crime data with the ACS population \n",
    "crime_aggregated_2010_2020 = crime_aggregated_2010_2020.merge(\n",
    "    district_aggregated_post_2009[['dist_num', 'year', 'Total_Population']], \n",
    "    how='left',\n",
    "    left_on=['District', 'year'],\n",
    "    right_on=['dist_num', 'year']  # Merge on district and year (not month)\n",
    ")"
   ]
  },
  {
   "cell_type": "code",
   "execution_count": 107,
   "id": "54d25556-bccb-4cc1-bb36-c54b3712e6a0",
   "metadata": {},
   "outputs": [
    {
     "data": {
      "text/html": [
       "<div>\n",
       "<style scoped>\n",
       "    .dataframe tbody tr th:only-of-type {\n",
       "        vertical-align: middle;\n",
       "    }\n",
       "\n",
       "    .dataframe tbody tr th {\n",
       "        vertical-align: top;\n",
       "    }\n",
       "\n",
       "    .dataframe thead th {\n",
       "        text-align: right;\n",
       "    }\n",
       "</style>\n",
       "<table border=\"1\" class=\"dataframe\">\n",
       "  <thead>\n",
       "    <tr style=\"text-align: right;\">\n",
       "      <th></th>\n",
       "      <th>District</th>\n",
       "      <th>year</th>\n",
       "      <th>month</th>\n",
       "      <th>Administrative or Non-Criminal</th>\n",
       "      <th>Drug-Related Crime</th>\n",
       "      <th>Other</th>\n",
       "      <th>Property Crime</th>\n",
       "      <th>Public Order Crime</th>\n",
       "      <th>Violent Crime</th>\n",
       "      <th>dist_num</th>\n",
       "      <th>Total_Population</th>\n",
       "    </tr>\n",
       "  </thead>\n",
       "  <tbody>\n",
       "    <tr>\n",
       "      <th>2899</th>\n",
       "      <td>25</td>\n",
       "      <td>2020</td>\n",
       "      <td>8</td>\n",
       "      <td>78</td>\n",
       "      <td>40</td>\n",
       "      <td>0</td>\n",
       "      <td>533</td>\n",
       "      <td>65</td>\n",
       "      <td>399</td>\n",
       "      <td>25</td>\n",
       "      <td>195995.765808</td>\n",
       "    </tr>\n",
       "    <tr>\n",
       "      <th>2900</th>\n",
       "      <td>25</td>\n",
       "      <td>2020</td>\n",
       "      <td>9</td>\n",
       "      <td>70</td>\n",
       "      <td>25</td>\n",
       "      <td>0</td>\n",
       "      <td>469</td>\n",
       "      <td>39</td>\n",
       "      <td>369</td>\n",
       "      <td>25</td>\n",
       "      <td>195995.765808</td>\n",
       "    </tr>\n",
       "    <tr>\n",
       "      <th>2901</th>\n",
       "      <td>25</td>\n",
       "      <td>2020</td>\n",
       "      <td>10</td>\n",
       "      <td>65</td>\n",
       "      <td>41</td>\n",
       "      <td>0</td>\n",
       "      <td>483</td>\n",
       "      <td>46</td>\n",
       "      <td>321</td>\n",
       "      <td>25</td>\n",
       "      <td>195995.765808</td>\n",
       "    </tr>\n",
       "    <tr>\n",
       "      <th>2902</th>\n",
       "      <td>25</td>\n",
       "      <td>2020</td>\n",
       "      <td>11</td>\n",
       "      <td>66</td>\n",
       "      <td>37</td>\n",
       "      <td>0</td>\n",
       "      <td>480</td>\n",
       "      <td>42</td>\n",
       "      <td>309</td>\n",
       "      <td>25</td>\n",
       "      <td>195995.765808</td>\n",
       "    </tr>\n",
       "    <tr>\n",
       "      <th>2903</th>\n",
       "      <td>25</td>\n",
       "      <td>2020</td>\n",
       "      <td>12</td>\n",
       "      <td>76</td>\n",
       "      <td>27</td>\n",
       "      <td>0</td>\n",
       "      <td>500</td>\n",
       "      <td>50</td>\n",
       "      <td>278</td>\n",
       "      <td>25</td>\n",
       "      <td>195995.765808</td>\n",
       "    </tr>\n",
       "  </tbody>\n",
       "</table>\n",
       "</div>"
      ],
      "text/plain": [
       "     District  year  month  Administrative or Non-Criminal  \\\n",
       "2899       25  2020      8                              78   \n",
       "2900       25  2020      9                              70   \n",
       "2901       25  2020     10                              65   \n",
       "2902       25  2020     11                              66   \n",
       "2903       25  2020     12                              76   \n",
       "\n",
       "      Drug-Related Crime  Other  Property Crime  Public Order Crime  \\\n",
       "2899                  40      0             533                  65   \n",
       "2900                  25      0             469                  39   \n",
       "2901                  41      0             483                  46   \n",
       "2902                  37      0             480                  42   \n",
       "2903                  27      0             500                  50   \n",
       "\n",
       "      Violent Crime dist_num  Total_Population  \n",
       "2899            399       25     195995.765808  \n",
       "2900            369       25     195995.765808  \n",
       "2901            321       25     195995.765808  \n",
       "2902            309       25     195995.765808  \n",
       "2903            278       25     195995.765808  "
      ]
     },
     "execution_count": 107,
     "metadata": {},
     "output_type": "execute_result"
    }
   ],
   "source": [
    "crime_aggregated_2010_2020.tail()"
   ]
  },
  {
   "cell_type": "code",
   "execution_count": 112,
   "id": "94263aee-5119-428f-98bb-f4cb6695e36e",
   "metadata": {},
   "outputs": [
    {
     "name": "stdout",
     "output_type": "stream",
     "text": [
      "  District  year  month  Administrative or Non-Criminal  Drug-Related Crime  \\\n",
      "0        1  2010      1                              52                  51   \n",
      "1        1  2010      2                              54                  46   \n",
      "2        1  2010      3                              69                  50   \n",
      "3        1  2010      4                              49                  46   \n",
      "4        1  2010      5                              66                  31   \n",
      "\n",
      "   Other  Property Crime  Public Order Crime  Violent Crime dist_num  \\\n",
      "0      0             748                  18            187        1   \n",
      "1      0             633                   8            153        1   \n",
      "2      0             752                  19            180        1   \n",
      "3      0             672                  13            175        1   \n",
      "4      0             719                  14            184        1   \n",
      "\n",
      "   Total_Population  Violent Crime_rate  Property Crime_rate  \\\n",
      "0      51174.689591            3.654150            14.616601   \n",
      "1      51174.689591            2.989759            12.369396   \n",
      "2      51174.689591            3.517364            14.694764   \n",
      "3      51174.689591            3.419659            13.131491   \n",
      "4      51174.689591            3.595527            14.049914   \n",
      "\n",
      "   Drug-Related Crime_rate  Administrative or Non-Criminal_rate  \\\n",
      "0                 0.996586                             1.016127   \n",
      "1                 0.898882                             1.055209   \n",
      "2                 0.977045                             1.348323   \n",
      "3                 0.898882                             0.957505   \n",
      "4                 0.605768                             1.289700   \n",
      "\n",
      "   Public Order Crime_rate  Other_rate  \n",
      "0                 0.351736         0.0  \n",
      "1                 0.156327         0.0  \n",
      "2                 0.371277         0.0  \n",
      "3                 0.254032         0.0  \n",
      "4                 0.273573         0.0  \n"
     ]
    }
   ],
   "source": [
    "#Calculate monthly crime rates per 1,000 people for different crime categories\n",
    "crime_types = ['Violent Crime', 'Property Crime', 'Drug-Related Crime', 'Administrative or Non-Criminal', 'Public Order Crime', 'Other'] \n",
    "\n",
    "for crime_type in crime_types:\n",
    "    crime_aggregated_2010_2020[f'{crime_type}_rate'] = (crime_aggregated_2010_2020[crime_type] / crime_aggregated_2010_2020['Total_Population']) * 1000\n",
    "\n",
    "#Inspect the resulting DataFrame with monthly crime rates for 2010-2020\n",
    "print(crime_aggregated_2010_2020.head())"
   ]
  },
  {
   "cell_type": "code",
   "execution_count": 114,
   "id": "00b8321d-dde5-4d8b-b162-b173f1dfa456",
   "metadata": {},
   "outputs": [],
   "source": [
    "# Calculate the total crime rate by summing all individual crime category rates\n",
    "crime_aggregated_2010_2020['total_crime_rate'] = (\n",
    "    crime_aggregated_2010_2020[['Violent Crime_rate', 'Property Crime_rate', 'Drug-Related Crime_rate',\n",
    "                                'Administrative or Non-Criminal_rate', 'Public Order Crime_rate', 'Other_rate']].sum(axis=1)\n",
    ")\n",
    "\n"
   ]
  },
  {
   "cell_type": "code",
   "execution_count": 116,
   "id": "99f1ce37-9de0-41bb-9c8d-1162cfec8130",
   "metadata": {},
   "outputs": [
    {
     "name": "stdout",
     "output_type": "stream",
     "text": [
      "     District  year  month  Administrative or Non-Criminal  \\\n",
      "2902       25  2020     11                              66   \n",
      "2903       25  2020     12                              76   \n",
      "\n",
      "      Drug-Related Crime  Other  Property Crime  Public Order Crime  \\\n",
      "2902                  37      0             480                  42   \n",
      "2903                  27      0             500                  50   \n",
      "\n",
      "      Violent Crime dist_num  Total_Population  Violent Crime_rate  \\\n",
      "2902            309       25     195995.765808            1.576565   \n",
      "2903            278       25     195995.765808            1.418398   \n",
      "\n",
      "      Property Crime_rate  Drug-Related Crime_rate  \\\n",
      "2902             2.449032                 0.188780   \n",
      "2903             2.551076                 0.137758   \n",
      "\n",
      "      Administrative or Non-Criminal_rate  Public Order Crime_rate  \\\n",
      "2902                             0.336742                 0.214290   \n",
      "2903                             0.387763                 0.255108   \n",
      "\n",
      "      Other_rate  total_crime_rate  \n",
      "2902         0.0          4.765409  \n",
      "2903         0.0          4.750103  \n"
     ]
    }
   ],
   "source": [
    "#Display the resulting DataFrame\n",
    "print(crime_aggregated_2010_2020.tail(2))"
   ]
  },
  {
   "cell_type": "markdown",
   "id": "aaff72cb-895e-4f4c-ae19-0e4e03120de1",
   "metadata": {},
   "source": [
    "## Step 8: Save ACS 2010-2020 and Crime 2010-2020 files"
   ]
  },
  {
   "cell_type": "code",
   "execution_count": 119,
   "id": "3bcab56b-5591-416f-8906-6133c66ae267",
   "metadata": {},
   "outputs": [],
   "source": [
    "#Crime 2010-2020\n",
    "crime_aggregated_2010_2020.to_parquet('crime_2010-2020.parquet', index=False)\n",
    "#ACS 2010-2020\n",
    "district_aggregated_post_2009.to_parquet('acs_2010-2020.parquet', index=False)"
   ]
  }
 ],
 "metadata": {
  "kernelspec": {
   "display_name": "Python 3",
   "language": "python",
   "name": "python3"
  },
  "language_info": {
   "codemirror_mode": {
    "name": "ipython",
    "version": 3
   },
   "file_extension": ".py",
   "mimetype": "text/x-python",
   "name": "python",
   "nbconvert_exporter": "python",
   "pygments_lexer": "ipython3",
   "version": "3.11.5"
  }
 },
 "nbformat": 4,
 "nbformat_minor": 5
}

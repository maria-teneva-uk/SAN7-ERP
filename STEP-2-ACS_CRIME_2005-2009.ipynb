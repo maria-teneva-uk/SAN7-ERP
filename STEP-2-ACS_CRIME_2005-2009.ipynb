{
 "cells": [
  {
   "cell_type": "markdown",
   "id": "5537ab69",
   "metadata": {},
   "source": [
    "# Preprocessing Crime Data and ACS Data for 2005-2009\n",
    "This notebook is designed to integrate preprocessed crime data with ACS (American Community Survey) data from 2005-2009. The process is different from integrating 2010 onwards crime/ACS data, as the ACS started in 2005 and API access with geographical identificators is not available for data before 2009. Refer to documentation for necessary data imports. \n",
    "The ACS data can be downloaded from from https://usa.ipums.org/usa-action/variables/group after creating a login. The readme contains the necessary tables\n",
    "## Steps Overview:\n",
    "1. Load ACS Data from 2005 to 2009 \n",
    "2. Retrieve census tract ID from state, county and tract codes\n",
    "3. Load shape files of pre-2010 census tracts from Chicago and map them to police districts using areal weighting\n",
    "4. Aggregate the ACS 2005-2009 data to police district level\n",
    "5. Load 2001 to 2024 crime data from CPD \n",
    "6. Filter Crime Data by Date Range 2005 to 2009\n",
    "7. Check Police District Unique Categories\n",
    "8. Derive 2005-2009 crime rates using ACS total population and crime dataset\n",
    "9. Save files for further preprocessing (will be used in subsequent notebooks)"
   ]
  },
  {
   "cell_type": "code",
   "execution_count": 70,
   "id": "36ff9984-2776-4f8b-9012-8c579048156a",
   "metadata": {},
   "outputs": [],
   "source": [
    "import pandas as pd\n",
    "import geopandas as gpd\n",
    "import numpy as np\n",
    "from census import Census\n",
    "from us import states\n",
    "import pkg_resources "
   ]
  },
  {
   "cell_type": "code",
   "execution_count": 72,
   "id": "5024a1f1-e749-4094-b66f-7a6740aa6347",
   "metadata": {},
   "outputs": [
    {
     "name": "stdout",
     "output_type": "stream",
     "text": [
      "pandas version: 2.0.3\n",
      "geopandas version: 1.0.1\n",
      "numpy version: 1.24.3\n",
      "census version: 0.8.22\n",
      "states version: 3.2.0\n"
     ]
    }
   ],
   "source": [
    "print(\"pandas version:\", pd.__version__)\n",
    "print(\"geopandas version:\", gpd.__version__)\n",
    "print(\"numpy version:\", np.__version__)\n",
    "\n",
    "# Use pkg_resources to get the version for Census and states\n",
    "print(\"census version:\", pkg_resources.get_distribution(\"census\").version)\n",
    "print(\"states version:\", pkg_resources.get_distribution(\"us\").version)\n"
   ]
  },
  {
   "cell_type": "code",
   "execution_count": 74,
   "id": "f1c4135c-8a74-4543-a390-323b8f06eb30",
   "metadata": {},
   "outputs": [],
   "source": [
    "import warnings\n",
    "\n",
    "# Suppress all warnings\n",
    "warnings.filterwarnings('ignore')"
   ]
  },
  {
   "cell_type": "markdown",
   "id": "2ec503e0",
   "metadata": {},
   "source": [
    "## Step 1: Load ACS Data from 2005 to 2009 "
   ]
  },
  {
   "cell_type": "code",
   "execution_count": 89,
   "id": "41d6e4a9-b31a-4a70-9de7-42c74748e235",
   "metadata": {},
   "outputs": [],
   "source": [
    "# Load ACS estimates from 2005-2009 (_E file)- this needs to be downloaded from https://usa.ipums.org/usa-action/variables/group after creating a login\n",
    "acs2005_2009 = pd.read_csv('nhgis0006_ds195_20095_tract_E.csv', encoding='ISO-8859-1')\n"
   ]
  },
  {
   "cell_type": "code",
   "execution_count": 91,
   "id": "d3011ffa-e811-42bf-9951-22eba2a66256",
   "metadata": {},
   "outputs": [],
   "source": [
    "# Filter for Chicago (Cook County, Illinois)\n",
    "acs2005_2009_chicago = acs2005_2009[(acs2005_2009['STATEA'] == 17) & (acs2005_2009['COUNTYA'] == 31)]"
   ]
  },
  {
   "cell_type": "code",
   "execution_count": 93,
   "id": "4b77b0bd-05a1-4be9-9878-1fd332880029",
   "metadata": {},
   "outputs": [
    {
     "name": "stdout",
     "output_type": "stream",
     "text": [
      "              GISJOIN       YEAR STUSAB  REGIONA  DIVISIONA     STATE  STATEA  \\\n",
      "17770  G1700310000000  2005-2009     IL      NaN        NaN  Illinois      17   \n",
      "17771  G1700310010100  2005-2009     IL      NaN        NaN  Illinois      17   \n",
      "\n",
      "            COUNTY  COUNTYA  COUSUBA  ...  RLIE020  RLIE021  RNBE001  RNBE002  \\\n",
      "17770  Cook County       31      NaN  ...        0        0        0        0   \n",
      "17771  Cook County       31      NaN  ...        0        0     4835      867   \n",
      "\n",
      "       RNBE003  RNBE004  RNBE005  RNBE006  RNBE007  RNBE008  \n",
      "17770        0        0        0        0        0        0  \n",
      "17771      852      112      253      438       22     2291  \n",
      "\n",
      "[2 rows x 68 columns]\n"
     ]
    }
   ],
   "source": [
    "# Display the first few rows to confirm filtering\n",
    "print(acs2005_2009_chicago.head(2))\n"
   ]
  },
  {
   "cell_type": "code",
   "execution_count": 95,
   "id": "33867aa0-db32-43a1-a267-d820433188b9",
   "metadata": {},
   "outputs": [
    {
     "name": "stdout",
     "output_type": "stream",
     "text": [
      "GISJOIN         0\n",
      "YEAR            0\n",
      "STUSAB          0\n",
      "REGIONA      1344\n",
      "DIVISIONA    1344\n",
      "             ... \n",
      "RNBE004         0\n",
      "RNBE005         0\n",
      "RNBE006         0\n",
      "RNBE007         0\n",
      "RNBE008         0\n",
      "Length: 68, dtype: int64\n"
     ]
    }
   ],
   "source": [
    "# Check for missing values\n",
    "print(acs2005_2009_chicago.isnull().sum())\n",
    "\n",
    "# Option 1: Fill missing values with 0 (for numerical columns)\n",
    "acs2005_2009_chicago.fillna(0, inplace=True)\n"
   ]
  },
  {
   "cell_type": "markdown",
   "id": "b2ab5304",
   "metadata": {},
   "source": [
    "## Step 2: Retrieve census tract ID from state, county and tract codes"
   ]
  },
  {
   "cell_type": "code",
   "execution_count": 98,
   "id": "d7be50ba-6b3f-426d-b269-65c30db0b06e",
   "metadata": {},
   "outputs": [],
   "source": [
    "# Now construct a unique identifier for census tracts by combining STATEA, COUNTYA, and TRACTA\n",
    "acs2005_2009_chicago['census_tract_id'] = acs2005_2009_chicago['STATEA'].astype(str).str.zfill(2) + \\\n",
    "                               acs2005_2009_chicago['COUNTYA'].astype(str).str.zfill(3) + \\\n",
    "                               acs2005_2009_chicago['TRACTA'].astype(str).str.zfill(6)"
   ]
  },
  {
   "cell_type": "markdown",
   "id": "01f3e52a-bc95-469d-9c88-cbc3aa08cf55",
   "metadata": {},
   "source": [
    "## Step 3: Load shape files of pre-2010 census tracts from Chicago and map them to police districts using areal weighting\n",
    "https://data.cityofchicago.org/Facilities-Geographic-Boundaries/Boundaries-Census-Tracts-2000/pt6c-hxpp - tracts\n",
    "\n",
    "https://data.cityofchicago.org/Public-Safety/Boundaries-Police-Beats-effective-12-19-2012-/dq28-4w9c - districts\n",
    "\r\n"
   ]
  },
  {
   "cell_type": "code",
   "execution_count": 101,
   "id": "d4f11fc3-416f-45e1-a8f0-6d53bad3b18a",
   "metadata": {},
   "outputs": [],
   "source": [
    "# Load the census tract and police districts shapefiles (you need the correct file path/ or downloaded file names)\n",
    "\n",
    "tracts = gpd.read_file('Census_Tracts.shp')\n",
    "districts = gpd.read_file('geo_export_04c70f5d-35cd-4d51-82f4-222f5c605f9a.shp')"
   ]
  },
  {
   "cell_type": "code",
   "execution_count": 103,
   "id": "47d6442e-d1d4-4e2f-ab68-2150b19d6918",
   "metadata": {},
   "outputs": [
    {
     "name": "stdout",
     "output_type": "stream",
     "text": [
      "Index(['dist_label', 'dist_num', 'geometry'], dtype='object')\n",
      "  dist_label dist_num                                           geometry\n",
      "0       17TH       17  POLYGON ((-87.71067 41.99737, -87.71067 41.997...\n",
      "1       20TH       20  POLYGON ((-87.66029 41.99092, -87.66029 41.990...\n",
      "2       31ST       31  POLYGON ((-87.82818 41.98384, -87.82816 41.983...\n",
      "3       31ST       31  POLYGON ((-87.83365 41.97535, -87.83366 41.974...\n",
      "4       19TH       19  POLYGON ((-87.64492 41.96973, -87.64431 41.969...\n"
     ]
    }
   ],
   "source": [
    "# Display the columns in the districts GeoDataFrame\n",
    "print(districts.columns)\n",
    "\n",
    "# View the first few rows to get an idea of the data\n",
    "print(districts.head())"
   ]
  },
  {
   "cell_type": "code",
   "execution_count": 105,
   "id": "96392f5d-c7d2-4347-bbdc-3296d2a50b29",
   "metadata": {},
   "outputs": [
    {
     "name": "stdout",
     "output_type": "stream",
     "text": [
      "Empty GeoDataFrame\n",
      "Columns: [dist_label, dist_num, geometry]\n",
      "Index: []\n"
     ]
    }
   ],
   "source": [
    "# Remove District 31 since it's not an official district despite appearing in the files\n",
    "districts = districts[districts['dist_label'] != '31ST']\n",
    "# Ensure District 31 is excluded\n",
    "print(districts[districts['dist_label'] == '31ST'])  # This should return an empty DataFrame\n"
   ]
  },
  {
   "cell_type": "code",
   "execution_count": 107,
   "id": "55afc2a7-7ea3-422a-a8a8-efe4d8dded04",
   "metadata": {},
   "outputs": [],
   "source": [
    "# Reproject census tracts and police districts/beats to a projected CRS for accurate area calculations\n",
    "tracts = tracts.to_crs(epsg=26971)\n",
    "districts = districts.to_crs(epsg=26971)"
   ]
  },
  {
   "cell_type": "code",
   "execution_count": 109,
   "id": "450bdfb7-bfa0-4e1a-859f-190633808793",
   "metadata": {},
   "outputs": [
    {
     "name": "stdout",
     "output_type": "stream",
     "text": [
      "    CENSUS_T_1 dist_num    proportion\n",
      "0  17031720500       22  1.000000e+00\n",
      "1  17031730200       22  1.000000e+00\n",
      "2  17031730300       22  1.000000e+00\n",
      "3  17031740100       22  1.000000e+00\n",
      "4  17031711200       22  2.530625e-07\n"
     ]
    }
   ],
   "source": [
    "# Perform spatial intersection to get tracts intersecting districts\n",
    "tracts_to_districts = gpd.overlay(tracts, districts, how='intersection')\n",
    "\n",
    "# Calculate intersection area\n",
    "tracts_to_districts['intersection_area'] = tracts_to_districts.geometry.area\n",
    "\n",
    "# Calculate total area for each census tract\n",
    "tracts_to_districts['total_tract_area'] = tracts_to_districts.groupby('CENSUS_T_1')['intersection_area'].transform('sum')\n",
    "\n",
    "# Calculate the proportion of each tract within the district\n",
    "tracts_to_districts['proportion'] = tracts_to_districts['intersection_area'] / tracts_to_districts['total_tract_area']\n",
    "\n",
    "# Select relevant columns for the merge (use 'CENSUS_T_1' for the 2000 census tract identifier)\n",
    "tracts_to_districts = tracts_to_districts[['CENSUS_T_1', 'dist_num', 'proportion']]\n",
    "\n",
    "# Filter out any rows where dist_num is 31 (in case any remain in the result)\n",
    "tracts_to_districts = tracts_to_districts[tracts_to_districts['dist_num'] != 31]\n",
    "# Display the first few rows to verify\n",
    "print(tracts_to_districts.head())"
   ]
  },
  {
   "cell_type": "markdown",
   "id": "0b96c890",
   "metadata": {},
   "source": [
    "## Step 4: Aggregate the ACS 2005-2009 data to police district level"
   ]
  },
  {
   "cell_type": "code",
   "execution_count": 111,
   "id": "943c3b44-24cf-4d2b-a01f-4435119f6d5d",
   "metadata": {},
   "outputs": [
    {
     "name": "stdout",
     "output_type": "stream",
     "text": [
      "   Total_Population  RLIE001  Total_Population_Poverty_Status dist_num  \\\n",
      "0              2283     2283                             2283       22   \n",
      "1              9411     9411                             9411       22   \n",
      "2              1404     1404                             1404       22   \n",
      "3              3198     3198                             3192       22   \n",
      "4              5761     5761                             5761       22   \n",
      "5              5761     5761                             5761        6   \n",
      "6              2143     2143                             2129       22   \n",
      "7              2143     2143                             2129        6   \n",
      "8              4789     4789                             4778       22   \n",
      "9              2093     2093                             2093       22   \n",
      "\n",
      "     proportion  Percent_Hispanic  Percent_NonHispanic_White  \\\n",
      "0  1.000000e+00          4.029785                  94.918966   \n",
      "1  1.000000e+00          0.563171                   0.690681   \n",
      "2  1.000000e+00          0.000000                   0.000000   \n",
      "3  1.000000e+00          7.129456                  92.245153   \n",
      "4  2.530625e-07          0.000000                   0.815831   \n",
      "5  9.999997e-01          0.000000                   0.815831   \n",
      "6  1.000000e+00          5.132991                   0.000000   \n",
      "7  4.092217e-08          5.132991                   0.000000   \n",
      "8  1.000000e+00          0.000000                  35.414492   \n",
      "9  1.089053e-14          5.207836                   1.576684   \n",
      "\n",
      "   Percent_NonHispanic_Black  Percent_NonHispanic_Asian  Poverty_Percent  \n",
      "0                   1.051248                   0.000000         0.306614  \n",
      "1                  98.119222                   0.000000        21.836149  \n",
      "2                  87.179487                   0.000000        23.504274  \n",
      "3                   0.000000                   0.000000         3.258145  \n",
      "4                  98.472487                   0.000000        13.747613  \n",
      "5                  98.472487                   0.000000        13.747613  \n",
      "6                  94.120392                   0.746617        29.591357  \n",
      "7                  94.120392                   0.746617        29.591357  \n",
      "8                  57.840885                   0.000000         9.062369  \n",
      "9                  92.642140                   0.573340        16.483516  \n"
     ]
    }
   ],
   "source": [
    "# Merge the tract-to-district mapping with socio-economic data\n",
    "# Merge on 'CENSUS_T_1' (from shapefile) and 'census_tract_id' (constructed in the acs2005_2009_chicago)\n",
    "merged_data2005 = pd.merge(tracts_to_districts, acs2005_2009_chicago, left_on='CENSUS_T_1', right_on='census_tract_id')\n",
    "# Columns to keep for calculating demographic percentages and poverty percentage\n",
    "columns_to_keep = [\n",
    "    'RK9E001',  # Total Population (from Table 1)\n",
    "    'RLIE001',  # Total Population (for Hispanic or Latino Origin by Race)\n",
    "    'RLIE003',  # Not Hispanic or Latino: White alone\n",
    "    'RLIE004',  # Not Hispanic or Latino: Black or African American alone\n",
    "    'RLIE006',  # Not Hispanic or Latino: Asian alone\n",
    "    'RLIE012',  # Hispanic or Latino\n",
    "    'RNBE001',  # Total population for whom poverty status is determined (from Table 3)\n",
    "    'RNBE002',  # Population under 0.50 (extreme poverty)\n",
    "    'RNBE003',  # Population between 0.50 to 0.99 (below poverty threshold)\n",
    "    'dist_num',  # Police district number from the shapefile\n",
    "    'proportion'  # Proportion of tract in the district\n",
    "]\n",
    "\n",
    "# Filter the merged dataset to keep only relevant columns\n",
    "filtered_df = merged_data2005[columns_to_keep]\n",
    "\n",
    "# Create new calculated columns for demographic percentages\n",
    "filtered_df['Percent_Hispanic'] = (filtered_df['RLIE012'] / filtered_df['RK9E001']) * 100\n",
    "filtered_df['Percent_NonHispanic_White'] = (filtered_df['RLIE003'] / filtered_df['RK9E001']) * 100\n",
    "filtered_df['Percent_NonHispanic_Black'] = (filtered_df['RLIE004'] / filtered_df['RK9E001']) * 100\n",
    "filtered_df['Percent_NonHispanic_Asian'] = (filtered_df['RLIE006'] / filtered_df['RK9E001']) * 100\n",
    "\n",
    "# Calculate the poverty percentage:\n",
    "# Poverty Percent = (Population under poverty threshold / Total Population) * 100\n",
    "filtered_df['Poverty_Percent'] = ((filtered_df['RNBE002'] + filtered_df['RNBE003']) / filtered_df['RNBE001']) * 100\n",
    "\n",
    "# Drop intermediate columns\n",
    "filtered_df = filtered_df.drop(columns=[\n",
    "    'RLIE003', 'RLIE004', 'RLIE006', 'RLIE012',  # Demographic-related columns\n",
    "    'RNBE002', 'RNBE003'  # Poverty-related columns\n",
    "])\n",
    "\n",
    "# Rename remaining columns for clarity\n",
    "filtered_df = filtered_df.rename(columns={\n",
    "    'RK9E001': 'Total_Population',\n",
    "    'RNBE001': 'Total_Population_Poverty_Status'\n",
    "})\n",
    "\n",
    "# Replace NaN values with 0\n",
    "filtered_df.fillna(0, inplace=True)\n",
    "\n",
    "# Final dataset will have Total Population, Poverty_Percent, and the calculated percentages for ethnic composition\n",
    "print(filtered_df.head(10)) \n",
    "\n"
   ]
  },
  {
   "cell_type": "code",
   "execution_count": 114,
   "id": "1bb7c446-1069-4f0d-9e5d-421fe0ae78f5",
   "metadata": {},
   "outputs": [
    {
     "name": "stdout",
     "output_type": "stream",
     "text": [
      "  dist_num  Total_Population  Poverty_Percent  Percent_NonHispanic_White  \\\n",
      "0        1             95717        19.351846                  37.005612   \n",
      "1       10            142736        32.853045                   6.826244   \n",
      "2       11            132036        36.099363                   4.769434   \n",
      "3       12            200158        26.834720                  31.523792   \n",
      "4       14            222914        20.430424                  41.621459   \n",
      "\n",
      "   Percent_NonHispanic_Black  Percent_NonHispanic_Asian  Percent_Hispanic  \n",
      "0                  35.439539                  13.647250          5.051153  \n",
      "1                  44.298015                   0.750258         41.147614  \n",
      "2                  75.509389                   1.190795         13.185960  \n",
      "3                  34.011380                   8.668835         22.125298  \n",
      "4                  10.730775                   2.949824         42.373288  \n"
     ]
    }
   ],
   "source": [
    "# Define aggregation functions to get district-level statistics\n",
    "agg_funcs = {\n",
    "    'Total_Population': 'sum',              # Sum total population\n",
    "    'Poverty_Percent': 'mean',              # Average poverty percentage\n",
    "    'Percent_NonHispanic_White': 'mean',    # Average Non-Hispanic White percentage\n",
    "    'Percent_NonHispanic_Black': 'mean',    # Average Non-Hispanic Black percentage\n",
    "    'Percent_NonHispanic_Asian': 'mean',    # Average Non-Hispanic Asian percentage\n",
    "    'Percent_Hispanic': 'mean',             # Average Hispanic percentage\n",
    "}\n",
    "\n",
    "# Group by dist_num and aggregate using the functions above\n",
    "district_aggregated2005 = filtered_df.groupby('dist_num').agg(agg_funcs).reset_index()\n",
    "\n",
    "# Display the aggregated district-level data\n",
    "print(district_aggregated2005.head())"
   ]
  },
  {
   "cell_type": "markdown",
   "id": "fdd75e2d",
   "metadata": {},
   "source": [
    "## Step 5: Load 2001 to 2024 crime data from CPD "
   ]
  },
  {
   "cell_type": "code",
   "execution_count": 117,
   "id": "d0858d43-0078-4dfa-92ad-fed7c8b49f9a",
   "metadata": {},
   "outputs": [],
   "source": [
    "#load full crime data #replace with correct data file name\n",
    "crime_data = pd.read_parquet('crimeunits2409.parquet', engine=\"pyarrow\")"
   ]
  },
  {
   "cell_type": "code",
   "execution_count": 118,
   "id": "65837a1b-9290-4987-83b2-708baed88810",
   "metadata": {},
   "outputs": [
    {
     "name": "stdout",
     "output_type": "stream",
     "text": [
      "Empty DataFrame\n",
      "Columns: [Date, ID, Beat, District, Ward, Arrest, Latitude, Longitude, Primary Type, Crime_Category, year, month]\n",
      "Index: []\n"
     ]
    }
   ],
   "source": [
    "# Convert 'Date' column to datetime format\n",
    "crime_data['Date'] = pd.to_datetime(crime_data['Date'], errors='coerce')\n",
    "# Extract year and month\n",
    "crime_data['year'] = crime_data['Date'].dt.year\n",
    "crime_data['month'] = crime_data['Date'].dt.month\n",
    "\n",
    "# Check for any rows where the 'Date' conversion failed\n",
    "print(crime_data[crime_data['Date'].isna()].head())"
   ]
  },
  {
   "cell_type": "markdown",
   "id": "e6dabf54",
   "metadata": {},
   "source": [
    "## Step 6: Filter Crime Data by Date Range 2005 to 2009"
   ]
  },
  {
   "cell_type": "code",
   "execution_count": 120,
   "id": "692e1751-022e-4f1d-a7a4-528486abb68d",
   "metadata": {},
   "outputs": [],
   "source": [
    "# Filter the crime data for years 2004-2009\n",
    "crime_filtered2005 = crime_data[(crime_data['year'] >= 2005) & (crime_data['year'] <= 2009)]\n"
   ]
  },
  {
   "cell_type": "markdown",
   "id": "946be18a",
   "metadata": {},
   "source": [
    "## Step 7: Check Police District Unique Categories"
   ]
  },
  {
   "cell_type": "code",
   "execution_count": 122,
   "id": "660a7763-e417-4622-a424-452b1eefcc7a",
   "metadata": {},
   "outputs": [
    {
     "name": "stdout",
     "output_type": "stream",
     "text": [
      "Unique districts in crime_data: ['024' '006' '002' '004' '005' '011' '010' '008' '022' '019' '025' '012'\n",
      " '001' '020' '003' '015' '016' '018' '017' '007' '009' '014']\n"
     ]
    }
   ],
   "source": [
    "#The CPD data has been updated to reflect the latest district boundaries along the whole period\n",
    "print(\"Unique districts in crime_data:\", crime_filtered2005['District'].unique())"
   ]
  },
  {
   "cell_type": "code",
   "execution_count": 124,
   "id": "0179c26e-0533-41a7-82cf-c74bd21da37f",
   "metadata": {},
   "outputs": [
    {
     "name": "stdout",
     "output_type": "stream",
     "text": [
      "['1' '10' '11' '12' '14' '15' '16' '17' '18' '19' '2' '20' '22' '24' '25'\n",
      " '3' '4' '5' '6' '7' '8' '9']\n",
      "['24' '6' '2' '4' '5' '11' '10' '8' '22' '19' '25' '12' '1' '20' '3' '15'\n",
      " '16' '18' '17' '7' '9' '14']\n"
     ]
    }
   ],
   "source": [
    "# Remove leading zeros from the 'District' column in the crime data\n",
    "crime_filtered2005['District'] = crime_filtered2005['District'].str.lstrip('0')\n",
    "\n",
    "# Verify that the formats are now aligned\n",
    "print(district_aggregated2005['dist_num'].unique())\n",
    "print(crime_filtered2005['District'].unique())"
   ]
  },
  {
   "cell_type": "markdown",
   "id": "c145acf3",
   "metadata": {},
   "source": [
    "## Step 8: Derive 2005-2009 crime rates using ACS total population and crime dataset"
   ]
  },
  {
   "cell_type": "code",
   "execution_count": 127,
   "id": "55358b18-9e18-48a3-aebd-2b6f0fce4f3d",
   "metadata": {},
   "outputs": [],
   "source": [
    "#Merge the ACS data with the crime data to get total population per district\n",
    "crime_aggregated_monthly2005 = crime_filtered2005.groupby(['District', 'year', 'month', 'Crime_Category']).size().unstack(fill_value=0).reset_index()\n",
    "\n",
    "crime_aggregated_monthly2005 = crime_aggregated_monthly2005.merge(\n",
    "    district_aggregated2005[['dist_num', 'Total_Population']], \n",
    "    how='left',\n",
    "    left_on=['District'],\n",
    "    right_on=['dist_num']\n",
    ")\n",
    "\n",
    "# Drop redundant 'dist_num'\n",
    "crime_aggregated_monthly2005.drop(columns=['dist_num'], inplace=True)\n"
   ]
  },
  {
   "cell_type": "code",
   "execution_count": 129,
   "id": "52d0c596-320b-47a0-8764-a814f98284c7",
   "metadata": {},
   "outputs": [
    {
     "name": "stdout",
     "output_type": "stream",
     "text": [
      "  District  year  month  Administrative or Non-Criminal  Drug-Related Crime  \\\n",
      "0        1  2005      1                              84                 195   \n",
      "1        1  2005      2                              73                 166   \n",
      "2        1  2005      3                              82                 142   \n",
      "3        1  2005      4                              75                 105   \n",
      "4        1  2005      5                              71                 143   \n",
      "\n",
      "   Other  Property Crime  Public Order Crime  Violent Crime  Total_Population  \\\n",
      "0      0            1080                  15            233             95717   \n",
      "1      0             799                  11            193             95717   \n",
      "2      0             920                  22            246             95717   \n",
      "3      0             944                  18            268             95717   \n",
      "4      0            1044                  22            271             95717   \n",
      "\n",
      "   Violent Crime_rate  Property Crime_rate  Drug-Related Crime_rate  \\\n",
      "0            2.434259            11.283262                 2.037256   \n",
      "1            2.016361             8.347524                 1.734279   \n",
      "2            2.570076             9.611668                 1.483540   \n",
      "3            2.799921             9.862407                 1.096984   \n",
      "4            2.831263            10.907153                 1.493987   \n",
      "\n",
      "   Administrative or Non-Criminal_rate  Public Order Crime_rate  Other_rate  \n",
      "0                             0.877587                 0.156712         0.0  \n",
      "1                             0.762665                 0.114922         0.0  \n",
      "2                             0.856692                 0.229844         0.0  \n",
      "3                             0.783560                 0.188054         0.0  \n",
      "4                             0.741770                 0.229844         0.0  \n"
     ]
    }
   ],
   "source": [
    "# Calculate monthly crime rates per 1,000 people for different crime categories\n",
    "crime_types = ['Violent Crime', 'Property Crime', 'Drug-Related Crime', 'Administrative or Non-Criminal', 'Public Order Crime', 'Other']\n",
    "\n",
    "for crime_type in crime_types:\n",
    "    crime_aggregated_monthly2005[f'{crime_type}_rate'] = (crime_aggregated_monthly2005[crime_type] / crime_aggregated_monthly2005['Total_Population']) * 1000\n",
    "\n",
    "#Inspect the df with monthly crime rates\n",
    "print(crime_aggregated_monthly2005.head())"
   ]
  },
  {
   "cell_type": "code",
   "execution_count": 131,
   "id": "c59b59b9-b57f-4d71-ab18-df9b1d1823d5",
   "metadata": {},
   "outputs": [
    {
     "name": "stdout",
     "output_type": "stream",
     "text": [
      "     District  year  month  Administrative or Non-Criminal  \\\n",
      "1315        9  2009      8                             112   \n",
      "1316        9  2009      9                              96   \n",
      "1317        9  2009     10                             100   \n",
      "1318        9  2009     11                              97   \n",
      "1319        9  2009     12                              87   \n",
      "\n",
      "      Drug-Related Crime  Other  Property Crime  Public Order Crime  \\\n",
      "1315                 232      0             894                  77   \n",
      "1316                 228      0             784                  83   \n",
      "1317                 226      0             809                  96   \n",
      "1318                 202      0             809                  62   \n",
      "1319                 179      0             724                  45   \n",
      "\n",
      "      Violent Crime  Total_Population  Violent Crime_rate  \\\n",
      "1315            529            247011            2.141605   \n",
      "1316            520            247011            2.105169   \n",
      "1317            425            247011            1.720571   \n",
      "1318            422            247011            1.708426   \n",
      "1319            370            247011            1.497909   \n",
      "\n",
      "      Property Crime_rate  Drug-Related Crime_rate  \\\n",
      "1315             3.619272                 0.939229   \n",
      "1316             3.173948                 0.923036   \n",
      "1317             3.275158                 0.914939   \n",
      "1318             3.275158                 0.817777   \n",
      "1319             2.931044                 0.724664   \n",
      "\n",
      "      Administrative or Non-Criminal_rate  Public Order Crime_rate  Other_rate  \n",
      "1315                             0.453421                 0.311727         0.0  \n",
      "1316                             0.388647                 0.336017         0.0  \n",
      "1317                             0.404840                 0.388647         0.0  \n",
      "1318                             0.392695                 0.251001         0.0  \n",
      "1319                             0.352211                 0.182178         0.0  \n"
     ]
    }
   ],
   "source": [
    "#Inspect the df\n",
    "print(crime_aggregated_monthly2005.tail())"
   ]
  },
  {
   "cell_type": "code",
   "execution_count": 133,
   "id": "9c531ea5-f5ed-47d6-a6c7-dfea36eb4c31",
   "metadata": {},
   "outputs": [],
   "source": [
    "#Calculate the total crime rate by summing all individual crime category rates\n",
    "crime_aggregated_monthly2005['total_crime_rate'] = (\n",
    "    crime_aggregated_monthly2005[['Violent Crime_rate', 'Property Crime_rate', 'Drug-Related Crime_rate',\n",
    "                              'Administrative or Non-Criminal_rate', 'Public Order Crime_rate', 'Other_rate']].sum(axis=1)\n",
    ")"
   ]
  },
  {
   "cell_type": "code",
   "execution_count": 134,
   "id": "5a2fcc95-e316-40e2-91c2-9a738f0eedac",
   "metadata": {},
   "outputs": [
    {
     "data": {
      "text/html": [
       "<div>\n",
       "<style scoped>\n",
       "    .dataframe tbody tr th:only-of-type {\n",
       "        vertical-align: middle;\n",
       "    }\n",
       "\n",
       "    .dataframe tbody tr th {\n",
       "        vertical-align: top;\n",
       "    }\n",
       "\n",
       "    .dataframe thead th {\n",
       "        text-align: right;\n",
       "    }\n",
       "</style>\n",
       "<table border=\"1\" class=\"dataframe\">\n",
       "  <thead>\n",
       "    <tr style=\"text-align: right;\">\n",
       "      <th></th>\n",
       "      <th>District</th>\n",
       "      <th>year</th>\n",
       "      <th>month</th>\n",
       "      <th>Administrative or Non-Criminal</th>\n",
       "      <th>Drug-Related Crime</th>\n",
       "      <th>Other</th>\n",
       "      <th>Property Crime</th>\n",
       "      <th>Public Order Crime</th>\n",
       "      <th>Violent Crime</th>\n",
       "      <th>Total_Population</th>\n",
       "      <th>Violent Crime_rate</th>\n",
       "      <th>Property Crime_rate</th>\n",
       "      <th>Drug-Related Crime_rate</th>\n",
       "      <th>Administrative or Non-Criminal_rate</th>\n",
       "      <th>Public Order Crime_rate</th>\n",
       "      <th>Other_rate</th>\n",
       "      <th>total_crime_rate</th>\n",
       "    </tr>\n",
       "  </thead>\n",
       "  <tbody>\n",
       "    <tr>\n",
       "      <th>1315</th>\n",
       "      <td>9</td>\n",
       "      <td>2009</td>\n",
       "      <td>8</td>\n",
       "      <td>112</td>\n",
       "      <td>232</td>\n",
       "      <td>0</td>\n",
       "      <td>894</td>\n",
       "      <td>77</td>\n",
       "      <td>529</td>\n",
       "      <td>247011</td>\n",
       "      <td>2.141605</td>\n",
       "      <td>3.619272</td>\n",
       "      <td>0.939229</td>\n",
       "      <td>0.453421</td>\n",
       "      <td>0.311727</td>\n",
       "      <td>0.0</td>\n",
       "      <td>7.465255</td>\n",
       "    </tr>\n",
       "    <tr>\n",
       "      <th>1316</th>\n",
       "      <td>9</td>\n",
       "      <td>2009</td>\n",
       "      <td>9</td>\n",
       "      <td>96</td>\n",
       "      <td>228</td>\n",
       "      <td>0</td>\n",
       "      <td>784</td>\n",
       "      <td>83</td>\n",
       "      <td>520</td>\n",
       "      <td>247011</td>\n",
       "      <td>2.105169</td>\n",
       "      <td>3.173948</td>\n",
       "      <td>0.923036</td>\n",
       "      <td>0.388647</td>\n",
       "      <td>0.336017</td>\n",
       "      <td>0.0</td>\n",
       "      <td>6.926817</td>\n",
       "    </tr>\n",
       "    <tr>\n",
       "      <th>1317</th>\n",
       "      <td>9</td>\n",
       "      <td>2009</td>\n",
       "      <td>10</td>\n",
       "      <td>100</td>\n",
       "      <td>226</td>\n",
       "      <td>0</td>\n",
       "      <td>809</td>\n",
       "      <td>96</td>\n",
       "      <td>425</td>\n",
       "      <td>247011</td>\n",
       "      <td>1.720571</td>\n",
       "      <td>3.275158</td>\n",
       "      <td>0.914939</td>\n",
       "      <td>0.404840</td>\n",
       "      <td>0.388647</td>\n",
       "      <td>0.0</td>\n",
       "      <td>6.704155</td>\n",
       "    </tr>\n",
       "    <tr>\n",
       "      <th>1318</th>\n",
       "      <td>9</td>\n",
       "      <td>2009</td>\n",
       "      <td>11</td>\n",
       "      <td>97</td>\n",
       "      <td>202</td>\n",
       "      <td>0</td>\n",
       "      <td>809</td>\n",
       "      <td>62</td>\n",
       "      <td>422</td>\n",
       "      <td>247011</td>\n",
       "      <td>1.708426</td>\n",
       "      <td>3.275158</td>\n",
       "      <td>0.817777</td>\n",
       "      <td>0.392695</td>\n",
       "      <td>0.251001</td>\n",
       "      <td>0.0</td>\n",
       "      <td>6.445057</td>\n",
       "    </tr>\n",
       "    <tr>\n",
       "      <th>1319</th>\n",
       "      <td>9</td>\n",
       "      <td>2009</td>\n",
       "      <td>12</td>\n",
       "      <td>87</td>\n",
       "      <td>179</td>\n",
       "      <td>0</td>\n",
       "      <td>724</td>\n",
       "      <td>45</td>\n",
       "      <td>370</td>\n",
       "      <td>247011</td>\n",
       "      <td>1.497909</td>\n",
       "      <td>2.931044</td>\n",
       "      <td>0.724664</td>\n",
       "      <td>0.352211</td>\n",
       "      <td>0.182178</td>\n",
       "      <td>0.0</td>\n",
       "      <td>5.688006</td>\n",
       "    </tr>\n",
       "  </tbody>\n",
       "</table>\n",
       "</div>"
      ],
      "text/plain": [
       "     District  year  month  Administrative or Non-Criminal  \\\n",
       "1315        9  2009      8                             112   \n",
       "1316        9  2009      9                              96   \n",
       "1317        9  2009     10                             100   \n",
       "1318        9  2009     11                              97   \n",
       "1319        9  2009     12                              87   \n",
       "\n",
       "      Drug-Related Crime  Other  Property Crime  Public Order Crime  \\\n",
       "1315                 232      0             894                  77   \n",
       "1316                 228      0             784                  83   \n",
       "1317                 226      0             809                  96   \n",
       "1318                 202      0             809                  62   \n",
       "1319                 179      0             724                  45   \n",
       "\n",
       "      Violent Crime  Total_Population  Violent Crime_rate  \\\n",
       "1315            529            247011            2.141605   \n",
       "1316            520            247011            2.105169   \n",
       "1317            425            247011            1.720571   \n",
       "1318            422            247011            1.708426   \n",
       "1319            370            247011            1.497909   \n",
       "\n",
       "      Property Crime_rate  Drug-Related Crime_rate  \\\n",
       "1315             3.619272                 0.939229   \n",
       "1316             3.173948                 0.923036   \n",
       "1317             3.275158                 0.914939   \n",
       "1318             3.275158                 0.817777   \n",
       "1319             2.931044                 0.724664   \n",
       "\n",
       "      Administrative or Non-Criminal_rate  Public Order Crime_rate  \\\n",
       "1315                             0.453421                 0.311727   \n",
       "1316                             0.388647                 0.336017   \n",
       "1317                             0.404840                 0.388647   \n",
       "1318                             0.392695                 0.251001   \n",
       "1319                             0.352211                 0.182178   \n",
       "\n",
       "      Other_rate  total_crime_rate  \n",
       "1315         0.0          7.465255  \n",
       "1316         0.0          6.926817  \n",
       "1317         0.0          6.704155  \n",
       "1318         0.0          6.445057  \n",
       "1319         0.0          5.688006  "
      ]
     },
     "execution_count": 134,
     "metadata": {},
     "output_type": "execute_result"
    }
   ],
   "source": [
    "crime_aggregated_monthly2005.tail()"
   ]
  },
  {
   "cell_type": "markdown",
   "id": "08e691f0-ddf5-4048-b924-c58ee5141839",
   "metadata": {},
   "source": [
    "## Step 9: Save files for further preprocessing (will be used in subsequent notebooks)"
   ]
  },
  {
   "cell_type": "code",
   "execution_count": 141,
   "id": "94de3c37-514b-4244-870a-6d05bba17241",
   "metadata": {},
   "outputs": [],
   "source": [
    "#Save to a Parquet file if needed\n",
    "crime_aggregated_monthly2005.to_parquet('crime_2005-2009.parquet', index=False)"
   ]
  },
  {
   "cell_type": "code",
   "execution_count": 66,
   "id": "25b3c717-20e7-4d44-91a6-de1870ad619c",
   "metadata": {},
   "outputs": [],
   "source": [
    "district_aggregated2005.to_parquet('acs_2005-2009.parquet', index=False)"
   ]
  }
 ],
 "metadata": {
  "kernelspec": {
   "display_name": "Python 3",
   "language": "python",
   "name": "python3"
  },
  "language_info": {
   "codemirror_mode": {
    "name": "ipython",
    "version": 3
   },
   "file_extension": ".py",
   "mimetype": "text/x-python",
   "name": "python",
   "nbconvert_exporter": "python",
   "pygments_lexer": "ipython3",
   "version": "3.11.5"
  }
 },
 "nbformat": 4,
 "nbformat_minor": 5
}
